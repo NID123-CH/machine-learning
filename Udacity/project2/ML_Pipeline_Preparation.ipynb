{
 "cells": [
  {
   "cell_type": "markdown",
   "metadata": {},
   "source": [
    "# ML Pipeline Preparation\n",
    "Follow the instructions below to help you create your ML pipeline.\n",
    "### 1. Import libraries and load data from database.\n",
    "- Import Python libraries\n",
    "- Load dataset from database with [`read_sql_table`](https://pandas.pydata.org/pandas-docs/stable/generated/pandas.read_sql_table.html)\n",
    "- Define feature and target variables X and Y"
   ]
  },
  {
   "cell_type": "code",
   "execution_count": 49,
   "metadata": {},
   "outputs": [
    {
     "name": "stderr",
     "output_type": "stream",
     "text": [
      "[nltk_data] Downloading package punkt to /Users/jadehuang/nltk_data...\n",
      "[nltk_data]   Package punkt is already up-to-date!\n",
      "[nltk_data] Downloading package wordnet to\n",
      "[nltk_data]     /Users/jadehuang/nltk_data...\n",
      "[nltk_data]   Package wordnet is already up-to-date!\n"
     ]
    }
   ],
   "source": [
    "# import libraries\n",
    "import nltk\n",
    "nltk.download(['punkt', 'wordnet'])\n",
    "import re\n",
    "import pandas as pd\n",
    "from nltk.tokenize import word_tokenize\n",
    "from nltk.stem import WordNetLemmatizer\n",
    "\n",
    "from sqlalchemy import create_engine\n",
    "\n",
    "from sklearn.pipeline import Pipeline\n",
    "from sklearn.metrics import confusion_matrix\n",
    "from sklearn.model_selection import train_test_split\n",
    "from sklearn.ensemble import RandomForestClassifier\n",
    "from sklearn.feature_extraction.text import CountVectorizer, TfidfTransformer\n",
    "\n",
    "import numpy as np\n",
    "# from sklearn.datasets import make_multilabel_classification\n",
    "from sklearn.multioutput import MultiOutputClassifier\n",
    "from sklearn.neighbors import KNeighborsClassifier\n",
    "\n",
    "from sklearn.model_selection import GridSearchCV\n",
    "from sklearn.metrics import classification_report\n",
    "from sklearn.pipeline import FeatureUnion\n",
    "from sklearn.base import BaseEstimator, TransformerMixin\n",
    "\n",
    "import pickle\n"
   ]
  },
  {
   "cell_type": "code",
   "execution_count": 2,
   "metadata": {},
   "outputs": [],
   "source": [
    "url_regex = 'http[s]?://(?:[a-zA-Z]|[0-9]|[$-_@.&+]|[!*\\(\\),]|(?:%[0-9a-fA-F][0-9a-fA-F]))+'"
   ]
  },
  {
   "cell_type": "code",
   "execution_count": 4,
   "metadata": {},
   "outputs": [],
   "source": [
    "# load data from database\n",
    "def load_data():\n",
    "    engine = create_engine('sqlite:///data/DisasterResponse.db')\n",
    "    df = pd.read_sql_table(\n",
    "        'DisasterResponseTable',\n",
    "        con=engine\n",
    "    )\n",
    "\n",
    "    X = df['message'].values\n",
    "    y = df.loc[:, 'related' : 'direct_report'].values\n",
    "    \n",
    "    return df, X, y\n",
    "\n",
    "df, X, y = load_data()"
   ]
  },
  {
   "cell_type": "code",
   "execution_count": 5,
   "metadata": {},
   "outputs": [
    {
     "data": {
      "text/plain": [
       "Index(['related', 'request', 'offer', 'aid_related', 'medical_help',\n",
       "       'medical_products', 'search_and_rescue', 'security', 'military',\n",
       "       'child_alone', 'water', 'food', 'shelter', 'clothing', 'money',\n",
       "       'missing_people', 'refugees', 'death', 'other_aid',\n",
       "       'infrastructure_related', 'transport', 'buildings', 'electricity',\n",
       "       'tools', 'hospitals', 'shops', 'aid_centers', 'other_infrastructure',\n",
       "       'weather_related', 'floods', 'storm', 'fire', 'earthquake', 'cold',\n",
       "       'other_weather', 'direct_report'],\n",
       "      dtype='object')"
      ]
     },
     "execution_count": 5,
     "metadata": {},
     "output_type": "execute_result"
    }
   ],
   "source": [
    "target_names = df.loc[:, 'related' : 'direct_report'].columns\n",
    "target_names"
   ]
  },
  {
   "cell_type": "markdown",
   "metadata": {},
   "source": [
    "### 2. Write a tokenization function to process your text data"
   ]
  },
  {
   "cell_type": "code",
   "execution_count": 6,
   "metadata": {},
   "outputs": [],
   "source": [
    "def tokenize(text):\n",
    "    detected_urls = re.findall(url_regex, text)\n",
    "    for url in detected_urls:\n",
    "        text = text.replace(url, \"urlplaceholder\")\n",
    "\n",
    "    tokens = word_tokenize(text)\n",
    "    lemmatizer = WordNetLemmatizer()\n",
    "\n",
    "    clean_tokens = []\n",
    "    for tok in tokens:\n",
    "        clean_tok = lemmatizer.lemmatize(tok).lower().strip()\n",
    "        clean_tokens.append(clean_tok)\n",
    "\n",
    "    return clean_tokens"
   ]
  },
  {
   "cell_type": "markdown",
   "metadata": {},
   "source": [
    "### 3. Build a machine learning pipeline\n",
    "This machine pipeline should take in the `message` column as input and output classification results on the other 36 categories in the dataset. You may find the [MultiOutputClassifier](http://scikit-learn.org/stable/modules/generated/sklearn.multioutput.MultiOutputClassifier.html) helpful for predicting multiple target variables."
   ]
  },
  {
   "cell_type": "code",
   "execution_count": 7,
   "metadata": {},
   "outputs": [],
   "source": [
    "pipeline = Pipeline([\n",
    "        ('vect', CountVectorizer(tokenizer=tokenize)),\n",
    "        ('tfidf', TfidfTransformer()),\n",
    "        ('clf', MultiOutputClassifier(KNeighborsClassifier()))\n",
    "    ])"
   ]
  },
  {
   "cell_type": "markdown",
   "metadata": {},
   "source": [
    "### 4. Train pipeline\n",
    "- Split data into train and test sets\n",
    "- Train pipeline"
   ]
  },
  {
   "cell_type": "code",
   "execution_count": 8,
   "metadata": {},
   "outputs": [],
   "source": [
    "X_train, X_test, y_train, y_test = train_test_split(X, y, test_size=0.25, random_state=42)"
   ]
  },
  {
   "cell_type": "code",
   "execution_count": 9,
   "metadata": {},
   "outputs": [
    {
     "data": {
      "text/plain": [
       "Pipeline(memory=None,\n",
       "         steps=[('vect',\n",
       "                 CountVectorizer(analyzer='word', binary=False,\n",
       "                                 decode_error='strict',\n",
       "                                 dtype=<class 'numpy.int64'>, encoding='utf-8',\n",
       "                                 input='content', lowercase=True, max_df=1.0,\n",
       "                                 max_features=None, min_df=1,\n",
       "                                 ngram_range=(1, 1), preprocessor=None,\n",
       "                                 stop_words=None, strip_accents=None,\n",
       "                                 token_pattern='(?u)\\\\b\\\\w\\\\w+\\\\b',\n",
       "                                 tokenizer=<function tokenize at 0x1a1ee28950>,\n",
       "                                 vocabulary=None)),\n",
       "                ('tfidf',\n",
       "                 TfidfTransformer(norm='l2', smooth_idf=True,\n",
       "                                  sublinear_tf=False, use_idf=True)),\n",
       "                ('clf',\n",
       "                 MultiOutputClassifier(estimator=KNeighborsClassifier(algorithm='auto',\n",
       "                                                                      leaf_size=30,\n",
       "                                                                      metric='minkowski',\n",
       "                                                                      metric_params=None,\n",
       "                                                                      n_jobs=None,\n",
       "                                                                      n_neighbors=5,\n",
       "                                                                      p=2,\n",
       "                                                                      weights='uniform'),\n",
       "                                       n_jobs=None))],\n",
       "         verbose=False)"
      ]
     },
     "execution_count": 9,
     "metadata": {},
     "output_type": "execute_result"
    }
   ],
   "source": [
    "# train classifier\n",
    "pipeline.fit(X_train, y_train)"
   ]
  },
  {
   "cell_type": "markdown",
   "metadata": {},
   "source": [
    "### 5. Test your model\n",
    "Report the f1 score, precision and recall for each output category of the dataset. You can do this by iterating through the columns and calling sklearn's `classification_report` on each."
   ]
  },
  {
   "cell_type": "code",
   "execution_count": null,
   "metadata": {},
   "outputs": [],
   "source": [
    "# predict on test data\n",
    "y_pred = pipeline.predict(X_test)"
   ]
  },
  {
   "cell_type": "code",
   "execution_count": null,
   "metadata": {},
   "outputs": [],
   "source": [
    "target_names_list = target_names.tolist() # ['class 0', 'class 1', 'class 2']\n",
    "for col, target_name in enumerate(target_names_list):  \n",
    "    print(classification_report(y_test[:,col], y_pred[:, col], labels=target_names_list)) #target_names=target_names_list))\n",
    "    \n",
    "    "
   ]
  },
  {
   "cell_type": "markdown",
   "metadata": {},
   "source": [
    "### 6. Improve your model\n",
    "Use grid search to find better parameters. "
   ]
  },
  {
   "cell_type": "code",
   "execution_count": null,
   "metadata": {},
   "outputs": [],
   "source": [
    "parameters = {\n",
    "    'vect__ngram_range': [(1, 2)],\n",
    "    'tfidf__norm': ['l2'],\n",
    "    'clf__n_jobs': [-1]\n",
    "}\n",
    "\n",
    "cv = GridSearchCV(pipeline, param_grid=parameters)"
   ]
  },
  {
   "cell_type": "markdown",
   "metadata": {},
   "source": [
    "### 7. Test your model\n",
    "Show the accuracy, precision, and recall of the tuned model.  \n",
    "\n",
    "Since this project focuses on code quality, process, and  pipelines, there is no minimum performance metric needed to pass. However, make sure to fine tune your models for accuracy, precision and recall to make your project stand out - especially for your portfolio!"
   ]
  },
  {
   "cell_type": "code",
   "execution_count": null,
   "metadata": {},
   "outputs": [],
   "source": [
    "cv.fit(X_train, y_train)"
   ]
  },
  {
   "cell_type": "code",
   "execution_count": null,
   "metadata": {},
   "outputs": [],
   "source": [
    "y_pred = cv.predict(X_test)"
   ]
  },
  {
   "cell_type": "markdown",
   "metadata": {},
   "source": [
    "### 8. Try improving your model further. Here are a few ideas:\n",
    "* try other machine learning algorithms\n",
    "* add other features besides the TF-IDF"
   ]
  },
  {
   "cell_type": "code",
   "execution_count": 28,
   "metadata": {},
   "outputs": [],
   "source": [
    "class StartingVerbExtractor(BaseEstimator, TransformerMixin):\n",
    "    def starting_verb(self, text):\n",
    "        sentence_list = nltk.sent_tokenize(text)\n",
    "        for sentence in sentence_list:\n",
    "            pos_tags = nltk.pos_tag(tokenize(sentence))\n",
    "            first_word, first_tag = pos_tags[0]\n",
    "            if first_tag in ['VB', 'VBP'] or first_word == 'RT':\n",
    "                return True\n",
    "        return False\n",
    "\n",
    "    def fit(self, x, y=None):\n",
    "        return self\n",
    "\n",
    "    def transform(self, X):\n",
    "        X_tagged = pd.Series(X).apply(self.starting_verb)\n",
    "        X_tagged_df = pd.DataFrame(X_tagged)\n",
    "        dummies = pd.get_dummies(X_tagged_df[0], prefix='StartingVerb')\n",
    "        return dummies"
   ]
  },
  {
   "cell_type": "code",
   "execution_count": 33,
   "metadata": {},
   "outputs": [],
   "source": [
    "def build_model():\n",
    "    pipeline = Pipeline([\n",
    "        ('features', FeatureUnion([\n",
    "\n",
    "            ('text_pipeline', Pipeline([\n",
    "                ('vect', CountVectorizer(tokenizer=tokenize)),\n",
    "                ('tfidf', TfidfTransformer())\n",
    "            ])),\n",
    "\n",
    "            ('starting_verb', StartingVerbExtractor())\n",
    "        ])),\n",
    "\n",
    "        ('clf', MultiOutputClassifier(KNeighborsClassifier()))\n",
    "    ])\n",
    "\n",
    "    parameters = {\n",
    "        'features__text_pipeline__vect__ngram_range': ((1, 1), (1, 2)),\n",
    "        'features__text_pipeline__vect__max_df': (0.5, 0.75),\n",
    "        'features__text_pipeline__vect__max_features': (None, 5000),\n",
    "        'features__text_pipeline__tfidf__use_idf': (True, False),\n",
    "        'clf__n_jobs': [-1],\n",
    "        'features__transformer_weights': (\n",
    "            {'text_pipeline': 1, 'starting_verb': 0.5},\n",
    "            {'text_pipeline': 0.5, 'starting_verb': 1}\n",
    "        )\n",
    "    }\n",
    "\n",
    "    cv = GridSearchCV(pipeline, param_grid=parameters)\n",
    "\n",
    "    return cv"
   ]
  },
  {
   "cell_type": "code",
   "execution_count": 34,
   "metadata": {},
   "outputs": [],
   "source": [
    "# pipeline = model_pipeline()\n",
    "# cv = GridSearchCV(pipeline, param_grid=parameters)\n",
    "cv = build_model()"
   ]
  },
  {
   "cell_type": "code",
   "execution_count": 35,
   "metadata": {},
   "outputs": [
    {
     "data": {
      "text/plain": [
       "GridSearchCV(cv='warn', error_score='raise-deprecating',\n",
       "             estimator=Pipeline(memory=None,\n",
       "                                steps=[('features',\n",
       "                                        FeatureUnion(n_jobs=None,\n",
       "                                                     transformer_list=[('text_pipeline',\n",
       "                                                                        Pipeline(memory=None,\n",
       "                                                                                 steps=[('vect',\n",
       "                                                                                         CountVectorizer(analyzer='word',\n",
       "                                                                                                         binary=False,\n",
       "                                                                                                         decode_error='strict',\n",
       "                                                                                                         dtype=<class 'numpy.int64'>,\n",
       "                                                                                                         encoding='utf-8',\n",
       "                                                                                                         input='content',\n",
       "                                                                                                         lowercase=True,\n",
       "                                                                                                         max_df=...\n",
       "                         'features__text_pipeline__vect__max_df': (0.5, 0.75),\n",
       "                         'features__text_pipeline__vect__max_features': (None,\n",
       "                                                                         5000),\n",
       "                         'features__text_pipeline__vect__ngram_range': ((1, 1),\n",
       "                                                                        (1, 2)),\n",
       "                         'features__transformer_weights': ({'starting_verb': 0.5,\n",
       "                                                            'text_pipeline': 1},\n",
       "                                                           {'starting_verb': 1,\n",
       "                                                            'text_pipeline': 0.5})},\n",
       "             pre_dispatch='2*n_jobs', refit=True, return_train_score=False,\n",
       "             scoring=None, verbose=0)"
      ]
     },
     "execution_count": 35,
     "metadata": {},
     "output_type": "execute_result"
    }
   ],
   "source": [
    "cv.fit(X_train, y_train)"
   ]
  },
  {
   "cell_type": "code",
   "execution_count": 36,
   "metadata": {},
   "outputs": [],
   "source": [
    "y_pred = cv.predict(X_test)"
   ]
  },
  {
   "cell_type": "code",
   "execution_count": 45,
   "metadata": {},
   "outputs": [
    {
     "name": "stdout",
     "output_type": "stream",
     "text": [
      "              precision    recall  f1-score   support\n",
      "\n",
      "           0       0.55      0.44      0.49      1563\n",
      "\n",
      "   micro avg       0.55      0.44      0.49      1563\n",
      "   macro avg       0.55      0.44      0.49      1563\n",
      "weighted avg       0.55      0.44      0.49      1563\n",
      "\n",
      "              precision    recall  f1-score   support\n",
      "\n",
      "           1       0.77      0.32      0.46      1111\n",
      "\n",
      "   micro avg       0.77      0.32      0.46      1111\n",
      "   macro avg       0.77      0.32      0.46      1111\n",
      "weighted avg       0.77      0.32      0.46      1111\n",
      "\n",
      "              precision    recall  f1-score   support\n",
      "\n",
      "           2       0.00      0.00      0.00         0\n",
      "\n",
      "   micro avg       0.00      0.00      0.00         0\n",
      "   macro avg       0.00      0.00      0.00         0\n",
      "weighted avg       0.00      0.00      0.00         0\n",
      "\n",
      "              precision    recall  f1-score   support\n",
      "\n",
      "           3       0.00      0.00      0.00         0\n",
      "\n",
      "   micro avg       0.00      0.00      0.00         0\n",
      "   macro avg       0.00      0.00      0.00         0\n",
      "weighted avg       0.00      0.00      0.00         0\n",
      "\n",
      "              precision    recall  f1-score   support\n",
      "\n",
      "           4       0.00      0.00      0.00         0\n",
      "\n",
      "   micro avg       0.00      0.00      0.00         0\n",
      "   macro avg       0.00      0.00      0.00         0\n",
      "weighted avg       0.00      0.00      0.00         0\n",
      "\n",
      "              precision    recall  f1-score   support\n",
      "\n",
      "           5       0.00      0.00      0.00         0\n",
      "\n",
      "   micro avg       0.00      0.00      0.00         0\n",
      "   macro avg       0.00      0.00      0.00         0\n",
      "weighted avg       0.00      0.00      0.00         0\n",
      "\n",
      "              precision    recall  f1-score   support\n",
      "\n",
      "           6       0.00      0.00      0.00         0\n",
      "\n",
      "   micro avg       0.00      0.00      0.00         0\n",
      "   macro avg       0.00      0.00      0.00         0\n",
      "weighted avg       0.00      0.00      0.00         0\n",
      "\n",
      "              precision    recall  f1-score   support\n",
      "\n",
      "           7       0.00      0.00      0.00         0\n",
      "\n",
      "   micro avg       0.00      0.00      0.00         0\n",
      "   macro avg       0.00      0.00      0.00         0\n",
      "weighted avg       0.00      0.00      0.00         0\n",
      "\n",
      "              precision    recall  f1-score   support\n",
      "\n",
      "           8       0.00      0.00      0.00         0\n",
      "\n",
      "   micro avg       0.00      0.00      0.00         0\n",
      "   macro avg       0.00      0.00      0.00         0\n",
      "weighted avg       0.00      0.00      0.00         0\n",
      "\n",
      "              precision    recall  f1-score   support\n",
      "\n",
      "           9       0.00      0.00      0.00         0\n",
      "\n",
      "   micro avg       0.00      0.00      0.00         0\n",
      "   macro avg       0.00      0.00      0.00         0\n",
      "weighted avg       0.00      0.00      0.00         0\n",
      "\n",
      "              precision    recall  f1-score   support\n",
      "\n",
      "          10       0.00      0.00      0.00         0\n",
      "\n",
      "   micro avg       0.00      0.00      0.00         0\n",
      "   macro avg       0.00      0.00      0.00         0\n",
      "weighted avg       0.00      0.00      0.00         0\n",
      "\n",
      "              precision    recall  f1-score   support\n",
      "\n",
      "          11       0.00      0.00      0.00         0\n",
      "\n",
      "   micro avg       0.00      0.00      0.00         0\n",
      "   macro avg       0.00      0.00      0.00         0\n",
      "weighted avg       0.00      0.00      0.00         0\n",
      "\n",
      "              precision    recall  f1-score   support\n",
      "\n",
      "          12       0.00      0.00      0.00         0\n",
      "\n",
      "   micro avg       0.00      0.00      0.00         0\n",
      "   macro avg       0.00      0.00      0.00         0\n",
      "weighted avg       0.00      0.00      0.00         0\n",
      "\n",
      "              precision    recall  f1-score   support\n",
      "\n",
      "          13       0.00      0.00      0.00         0\n",
      "\n",
      "   micro avg       0.00      0.00      0.00         0\n",
      "   macro avg       0.00      0.00      0.00         0\n",
      "weighted avg       0.00      0.00      0.00         0\n",
      "\n",
      "              precision    recall  f1-score   support\n",
      "\n",
      "          14       0.00      0.00      0.00         0\n",
      "\n",
      "   micro avg       0.00      0.00      0.00         0\n",
      "   macro avg       0.00      0.00      0.00         0\n",
      "weighted avg       0.00      0.00      0.00         0\n",
      "\n",
      "              precision    recall  f1-score   support\n",
      "\n",
      "          15       0.00      0.00      0.00         0\n",
      "\n",
      "   micro avg       0.00      0.00      0.00         0\n",
      "   macro avg       0.00      0.00      0.00         0\n",
      "weighted avg       0.00      0.00      0.00         0\n",
      "\n",
      "              precision    recall  f1-score   support\n",
      "\n",
      "          16       0.00      0.00      0.00         0\n",
      "\n",
      "   micro avg       0.00      0.00      0.00         0\n",
      "   macro avg       0.00      0.00      0.00         0\n",
      "weighted avg       0.00      0.00      0.00         0\n",
      "\n",
      "              precision    recall  f1-score   support\n",
      "\n",
      "          17       0.00      0.00      0.00         0\n",
      "\n",
      "   micro avg       0.00      0.00      0.00         0\n",
      "   macro avg       0.00      0.00      0.00         0\n",
      "weighted avg       0.00      0.00      0.00         0\n",
      "\n",
      "              precision    recall  f1-score   support\n",
      "\n",
      "          18       0.00      0.00      0.00         0\n",
      "\n",
      "   micro avg       0.00      0.00      0.00         0\n",
      "   macro avg       0.00      0.00      0.00         0\n",
      "weighted avg       0.00      0.00      0.00         0\n",
      "\n",
      "              precision    recall  f1-score   support\n",
      "\n",
      "          19       0.00      0.00      0.00         0\n",
      "\n",
      "   micro avg       0.00      0.00      0.00         0\n",
      "   macro avg       0.00      0.00      0.00         0\n",
      "weighted avg       0.00      0.00      0.00         0\n",
      "\n",
      "              precision    recall  f1-score   support\n",
      "\n",
      "          20       0.00      0.00      0.00         0\n",
      "\n",
      "   micro avg       0.00      0.00      0.00         0\n",
      "   macro avg       0.00      0.00      0.00         0\n",
      "weighted avg       0.00      0.00      0.00         0\n",
      "\n",
      "              precision    recall  f1-score   support\n",
      "\n",
      "          21       0.00      0.00      0.00         0\n",
      "\n",
      "   micro avg       0.00      0.00      0.00         0\n",
      "   macro avg       0.00      0.00      0.00         0\n",
      "weighted avg       0.00      0.00      0.00         0\n",
      "\n",
      "              precision    recall  f1-score   support\n",
      "\n",
      "          22       0.00      0.00      0.00         0\n",
      "\n",
      "   micro avg       0.00      0.00      0.00         0\n",
      "   macro avg       0.00      0.00      0.00         0\n",
      "weighted avg       0.00      0.00      0.00         0\n",
      "\n",
      "              precision    recall  f1-score   support\n",
      "\n",
      "          23       0.00      0.00      0.00         0\n",
      "\n",
      "   micro avg       0.00      0.00      0.00         0\n",
      "   macro avg       0.00      0.00      0.00         0\n",
      "weighted avg       0.00      0.00      0.00         0\n",
      "\n",
      "              precision    recall  f1-score   support\n",
      "\n",
      "          24       0.00      0.00      0.00         0\n",
      "\n",
      "   micro avg       0.00      0.00      0.00         0\n",
      "   macro avg       0.00      0.00      0.00         0\n",
      "weighted avg       0.00      0.00      0.00         0\n",
      "\n",
      "              precision    recall  f1-score   support\n",
      "\n",
      "          25       0.00      0.00      0.00         0\n",
      "\n",
      "   micro avg       0.00      0.00      0.00         0\n",
      "   macro avg       0.00      0.00      0.00         0\n",
      "weighted avg       0.00      0.00      0.00         0\n",
      "\n",
      "              precision    recall  f1-score   support\n",
      "\n",
      "          26       0.00      0.00      0.00         0\n",
      "\n",
      "   micro avg       0.00      0.00      0.00         0\n",
      "   macro avg       0.00      0.00      0.00         0\n",
      "weighted avg       0.00      0.00      0.00         0\n",
      "\n",
      "              precision    recall  f1-score   support\n",
      "\n",
      "          27       0.00      0.00      0.00         0\n",
      "\n",
      "   micro avg       0.00      0.00      0.00         0\n",
      "   macro avg       0.00      0.00      0.00         0\n",
      "weighted avg       0.00      0.00      0.00         0\n",
      "\n",
      "              precision    recall  f1-score   support\n",
      "\n",
      "          28       0.00      0.00      0.00         0\n",
      "\n",
      "   micro avg       0.00      0.00      0.00         0\n",
      "   macro avg       0.00      0.00      0.00         0\n",
      "weighted avg       0.00      0.00      0.00         0\n",
      "\n",
      "              precision    recall  f1-score   support\n",
      "\n",
      "          29       0.00      0.00      0.00         0\n",
      "\n",
      "   micro avg       0.00      0.00      0.00         0\n",
      "   macro avg       0.00      0.00      0.00         0\n",
      "weighted avg       0.00      0.00      0.00         0\n",
      "\n",
      "              precision    recall  f1-score   support\n",
      "\n",
      "          30       0.00      0.00      0.00         0\n",
      "\n",
      "   micro avg       0.00      0.00      0.00         0\n",
      "   macro avg       0.00      0.00      0.00         0\n",
      "weighted avg       0.00      0.00      0.00         0\n",
      "\n",
      "              precision    recall  f1-score   support\n",
      "\n",
      "          31       0.00      0.00      0.00         0\n",
      "\n",
      "   micro avg       0.00      0.00      0.00         0\n",
      "   macro avg       0.00      0.00      0.00         0\n",
      "weighted avg       0.00      0.00      0.00         0\n",
      "\n",
      "              precision    recall  f1-score   support\n",
      "\n",
      "          32       0.00      0.00      0.00         0\n",
      "\n",
      "   micro avg       0.00      0.00      0.00         0\n",
      "   macro avg       0.00      0.00      0.00         0\n",
      "weighted avg       0.00      0.00      0.00         0\n",
      "\n",
      "              precision    recall  f1-score   support\n",
      "\n",
      "          33       0.00      0.00      0.00         0\n",
      "\n",
      "   micro avg       0.00      0.00      0.00         0\n",
      "   macro avg       0.00      0.00      0.00         0\n",
      "weighted avg       0.00      0.00      0.00         0\n",
      "\n",
      "              precision    recall  f1-score   support\n",
      "\n",
      "          34       0.00      0.00      0.00         0\n",
      "\n",
      "   micro avg       0.00      0.00      0.00         0\n",
      "   macro avg       0.00      0.00      0.00         0\n",
      "weighted avg       0.00      0.00      0.00         0\n",
      "\n"
     ]
    },
    {
     "name": "stdout",
     "output_type": "stream",
     "text": [
      "              precision    recall  f1-score   support\n",
      "\n",
      "          35       0.00      0.00      0.00         0\n",
      "\n",
      "   micro avg       0.00      0.00      0.00         0\n",
      "   macro avg       0.00      0.00      0.00         0\n",
      "weighted avg       0.00      0.00      0.00         0\n",
      "\n"
     ]
    }
   ],
   "source": [
    "# target_names_list = target_names.tolist() \n",
    "labels_list = list(range(0,36))\n",
    "\n",
    "for col, target_name in enumerate(target_names_list):  \n",
    "    print(classification_report(y_test[:,col], y_pred[:, col], labels=[labels_list[col]]))"
   ]
  },
  {
   "cell_type": "markdown",
   "metadata": {},
   "source": [
    "### 9. Export your model as a pickle file"
   ]
  },
  {
   "cell_type": "code",
   "execution_count": 50,
   "metadata": {},
   "outputs": [],
   "source": [
    "# model = cv.best_estimator_\n",
    "# save the model to disk\n",
    "filename = 'classifier.pkl'\n",
    "model = cv.best_estimator_\n",
    "pickle.dump(model, open(filename, 'wb'))\n",
    " \n",
    "# load the model from disk\n",
    "# loaded_model = pickle.load(open(filename, 'rb'))"
   ]
  },
  {
   "cell_type": "markdown",
   "metadata": {},
   "source": [
    "### 10. Use this notebook to complete `train.py`\n",
    "Use the template file attached in the Resources folder to write a script that runs the steps above to create a database and export a model based on a new dataset specified by the user."
   ]
  },
  {
   "cell_type": "code",
   "execution_count": null,
   "metadata": {},
   "outputs": [],
   "source": []
  }
 ],
 "metadata": {
  "kernelspec": {
   "display_name": "Python 3",
   "language": "python",
   "name": "python3"
  },
  "language_info": {
   "codemirror_mode": {
    "name": "ipython",
    "version": 3
   },
   "file_extension": ".py",
   "mimetype": "text/x-python",
   "name": "python",
   "nbconvert_exporter": "python",
   "pygments_lexer": "ipython3",
   "version": "3.7.4"
  }
 },
 "nbformat": 4,
 "nbformat_minor": 2
}
