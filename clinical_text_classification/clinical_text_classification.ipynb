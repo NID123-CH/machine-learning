{
 "cells": [
  {
   "cell_type": "markdown",
   "id": "7e487f23",
   "metadata": {},
   "source": [
    "# Common Machine Learning and Deep Learning Methods for Clinical Text Classification\n",
    "## Natural Language Processing for Healthcare Using NLTK, spaCy, Scikit-Learn, and Keras \n",
    "\n",
    "With the advance of machine learning and deep learning algorithms, Natural Language Processing (NLP) becomes a hot topic in both AI research and applications because text (e.g., English sentences) is a major type of natural language data. For example, text frequently appears in healthcare datasets such as Electronic Health Records (EHR). There are many AI methods for text data in healthcare domain such as Named Entity Recognition (NER) from clinical notes, clinical text classification, ..., etc. \n",
    "\n",
    "In this article I use an open source clinical text dataset to present some of the common machine learning and deep learning methods for clinical text classification.\n",
    "\n",
    "Similarly to a normal machine learning process, a machine learning process for NLP consists of the following common steps:\n",
    "\n",
    "* Data loading \n",
    "* Data Preprocessing\n",
    "* Feature Engineering\n",
    "* Model Selection\n",
    "* Model training\n",
    "* Model evaluation\n",
    "* Model Deployment"
   ]
  },
  {
   "cell_type": "code",
   "execution_count": 1,
   "id": "641f9587",
   "metadata": {},
   "outputs": [],
   "source": [
    "# !pip install nltk\n",
    "# !pip install keras\n",
    "# !pip install tensorflow\n",
    "# !pip install word2vec-keras\n",
    "# !pip install scispacy # https://allenai.github.io/scispacy/\n",
    "# !pip install https://s3-us-west-2.amazonaws.com/ai2-s2-scispacy/releases/v0.5.0/en_ner_bionlp13cg_md-0.5.0.tar.gz\n"
   ]
  },
  {
   "cell_type": "code",
   "execution_count": 2,
   "id": "b1609130",
   "metadata": {},
   "outputs": [
    {
     "name": "stderr",
     "output_type": "stream",
     "text": [
      "[nltk_data] Downloading package punkt to /Users/jadehuang/nltk_data...\n",
      "[nltk_data]   Package punkt is already up-to-date!\n",
      "[nltk_data] Downloading package wordnet to\n",
      "[nltk_data]     /Users/jadehuang/nltk_data...\n",
      "[nltk_data]   Package wordnet is already up-to-date!\n",
      "[nltk_data] Downloading package omw-1.4 to\n",
      "[nltk_data]     /Users/jadehuang/nltk_data...\n",
      "[nltk_data]   Package omw-1.4 is already up-to-date!\n",
      "[nltk_data] Downloading package stopwords to\n",
      "[nltk_data]     /Users/jadehuang/nltk_data...\n",
      "[nltk_data]   Package stopwords is already up-to-date!\n"
     ]
    }
   ],
   "source": [
    "# import libraries\n",
    "import nltk\n",
    "nltk.download(['punkt', 'wordnet'])\n",
    "nltk.download('omw-1.4')\n",
    "nltk.download('stopwords')\n",
    "import re\n",
    "import pandas as pd\n",
    "from nltk.tokenize import word_tokenize\n",
    "from nltk.stem import WordNetLemmatizer\n",
    "from nltk.corpus import stopwords\n",
    "from nltk.stem import PorterStemmer\n",
    "\n",
    "from sqlalchemy import create_engine\n",
    "\n",
    "from sklearn.pipeline import Pipeline\n",
    "from sklearn.metrics import confusion_matrix\n",
    "from sklearn.model_selection import train_test_split\n",
    "from sklearn.ensemble import RandomForestClassifier\n",
    "from sklearn.feature_extraction.text import CountVectorizer, TfidfTransformer, TfidfVectorizer\n",
    "\n",
    "import numpy as np\n",
    "import string \n",
    "# from sklearn.datasets import make_multilabel_classification\n",
    "from sklearn.multioutput import MultiOutputClassifier\n",
    "from sklearn.neighbors import KNeighborsClassifier\n",
    "\n",
    "from sklearn.model_selection import GridSearchCV\n",
    "from sklearn.metrics import classification_report\n",
    "from sklearn.pipeline import FeatureUnion\n",
    "from sklearn.base import BaseEstimator, TransformerMixin\n",
    "\n",
    "from sklearn.metrics import accuracy_score, roc_auc_score, f1_score\n",
    "\n",
    "from sklearn.preprocessing import MinMaxScaler\n",
    "import matplotlib.pyplot as plt\n",
    "\n",
    "from keras.layers import Dense, Input\n",
    "from keras.models import Model\n",
    "from keras.optimizers import gradient_descent_v2 \n",
    "# from keras.optimizers import SGD # outdated\n",
    "from tensorflow.keras.optimizers import RMSprop\n",
    "from keras.initializers import VarianceScaling\n",
    "\n",
    "import pickle"
   ]
  },
  {
   "cell_type": "code",
   "execution_count": 3,
   "id": "2d9ad1a4",
   "metadata": {},
   "outputs": [],
   "source": [
    "SEQUENCE_MODEL = False\n",
    "MAX_TOKENS = 20000\n",
    "MAX_LENGTH = 1500\n",
    "USE_GROVE  = False"
   ]
  },
  {
   "cell_type": "markdown",
   "id": "db6fbfdd",
   "metadata": {},
   "source": [
    "## 1. Data Loading\n",
    "\n",
    "The way of loading a dataset is similar no matter whether or not the dataset contains text. As an example, the code below loads the open source clinical text classification dataset into memory as Pandas DataFrame:"
   ]
  },
  {
   "cell_type": "code",
   "execution_count": 4,
   "id": "1531258d",
   "metadata": {},
   "outputs": [
    {
     "name": "stdout",
     "output_type": "stream",
     "text": [
      "(4999, 5)\n"
     ]
    },
    {
     "data": {
      "text/html": [
       "<div>\n",
       "<style scoped>\n",
       "    .dataframe tbody tr th:only-of-type {\n",
       "        vertical-align: middle;\n",
       "    }\n",
       "\n",
       "    .dataframe tbody tr th {\n",
       "        vertical-align: top;\n",
       "    }\n",
       "\n",
       "    .dataframe thead th {\n",
       "        text-align: right;\n",
       "    }\n",
       "</style>\n",
       "<table border=\"1\" class=\"dataframe\">\n",
       "  <thead>\n",
       "    <tr style=\"text-align: right;\">\n",
       "      <th></th>\n",
       "      <th>description</th>\n",
       "      <th>medical_specialty</th>\n",
       "      <th>sample_name</th>\n",
       "      <th>transcription</th>\n",
       "      <th>keywords</th>\n",
       "    </tr>\n",
       "  </thead>\n",
       "  <tbody>\n",
       "    <tr>\n",
       "      <th>0</th>\n",
       "      <td>A 23-year-old white female presents with comp...</td>\n",
       "      <td>Allergy / Immunology</td>\n",
       "      <td>Allergic Rhinitis</td>\n",
       "      <td>SUBJECTIVE:,  This 23-year-old white female pr...</td>\n",
       "      <td>allergy / immunology, allergic rhinitis, aller...</td>\n",
       "    </tr>\n",
       "    <tr>\n",
       "      <th>1</th>\n",
       "      <td>Consult for laparoscopic gastric bypass.</td>\n",
       "      <td>Bariatrics</td>\n",
       "      <td>Laparoscopic Gastric Bypass Consult - 2</td>\n",
       "      <td>PAST MEDICAL HISTORY:, He has difficulty climb...</td>\n",
       "      <td>bariatrics, laparoscopic gastric bypass, weigh...</td>\n",
       "    </tr>\n",
       "    <tr>\n",
       "      <th>2</th>\n",
       "      <td>Consult for laparoscopic gastric bypass.</td>\n",
       "      <td>Bariatrics</td>\n",
       "      <td>Laparoscopic Gastric Bypass Consult - 1</td>\n",
       "      <td>HISTORY OF PRESENT ILLNESS: , I have seen ABC ...</td>\n",
       "      <td>bariatrics, laparoscopic gastric bypass, heart...</td>\n",
       "    </tr>\n",
       "    <tr>\n",
       "      <th>3</th>\n",
       "      <td>2-D M-Mode. Doppler.</td>\n",
       "      <td>Cardiovascular / Pulmonary</td>\n",
       "      <td>2-D Echocardiogram - 1</td>\n",
       "      <td>2-D M-MODE: , ,1.  Left atrial enlargement wit...</td>\n",
       "      <td>cardiovascular / pulmonary, 2-d m-mode, dopple...</td>\n",
       "    </tr>\n",
       "    <tr>\n",
       "      <th>4</th>\n",
       "      <td>2-D Echocardiogram</td>\n",
       "      <td>Cardiovascular / Pulmonary</td>\n",
       "      <td>2-D Echocardiogram - 2</td>\n",
       "      <td>1.  The left ventricular cavity size and wall ...</td>\n",
       "      <td>cardiovascular / pulmonary, 2-d, doppler, echo...</td>\n",
       "    </tr>\n",
       "  </tbody>\n",
       "</table>\n",
       "</div>"
      ],
      "text/plain": [
       "                                         description  \\\n",
       "0   A 23-year-old white female presents with comp...   \n",
       "1           Consult for laparoscopic gastric bypass.   \n",
       "2           Consult for laparoscopic gastric bypass.   \n",
       "3                             2-D M-Mode. Doppler.     \n",
       "4                                 2-D Echocardiogram   \n",
       "\n",
       "             medical_specialty                                sample_name  \\\n",
       "0         Allergy / Immunology                         Allergic Rhinitis    \n",
       "1                   Bariatrics   Laparoscopic Gastric Bypass Consult - 2    \n",
       "2                   Bariatrics   Laparoscopic Gastric Bypass Consult - 1    \n",
       "3   Cardiovascular / Pulmonary                    2-D Echocardiogram - 1    \n",
       "4   Cardiovascular / Pulmonary                    2-D Echocardiogram - 2    \n",
       "\n",
       "                                       transcription  \\\n",
       "0  SUBJECTIVE:,  This 23-year-old white female pr...   \n",
       "1  PAST MEDICAL HISTORY:, He has difficulty climb...   \n",
       "2  HISTORY OF PRESENT ILLNESS: , I have seen ABC ...   \n",
       "3  2-D M-MODE: , ,1.  Left atrial enlargement wit...   \n",
       "4  1.  The left ventricular cavity size and wall ...   \n",
       "\n",
       "                                            keywords  \n",
       "0  allergy / immunology, allergic rhinitis, aller...  \n",
       "1  bariatrics, laparoscopic gastric bypass, weigh...  \n",
       "2  bariatrics, laparoscopic gastric bypass, heart...  \n",
       "3  cardiovascular / pulmonary, 2-d m-mode, dopple...  \n",
       "4  cardiovascular / pulmonary, 2-d, doppler, echo...  "
      ]
     },
     "execution_count": 4,
     "metadata": {},
     "output_type": "execute_result"
    }
   ],
   "source": [
    "data = pd.read_csv('./medical-nlp/data/mtsamples.csv', index_col=0)\n",
    "print(data.shape)\n",
    "data.head()"
   ]
  },
  {
   "cell_type": "code",
   "execution_count": 5,
   "id": "db034eb0",
   "metadata": {},
   "outputs": [
    {
     "data": {
      "text/plain": [
       " Surgery                          1103\n",
       " Consult - History and Phy.        516\n",
       " Cardiovascular / Pulmonary        372\n",
       " Orthopedic                        355\n",
       " Radiology                         273\n",
       " General Medicine                  259\n",
       " Gastroenterology                  230\n",
       " Neurology                         223\n",
       " SOAP / Chart / Progress Notes     166\n",
       " Obstetrics / Gynecology           160\n",
       " Urology                           158\n",
       " Discharge Summary                 108\n",
       " ENT - Otolaryngology               98\n",
       " Neurosurgery                       94\n",
       " Hematology - Oncology              90\n",
       " Ophthalmology                      83\n",
       " Nephrology                         81\n",
       " Emergency Room Reports             75\n",
       " Pediatrics - Neonatal              70\n",
       " Pain Management                    62\n",
       " Psychiatry / Psychology            53\n",
       " Office Notes                       51\n",
       " Podiatry                           47\n",
       " Dermatology                        29\n",
       " Cosmetic / Plastic Surgery         27\n",
       " Dentistry                          27\n",
       " Letters                            23\n",
       " Physical Medicine - Rehab          21\n",
       " Sleep Medicine                     20\n",
       " Endocrinology                      19\n",
       " Bariatrics                         18\n",
       " IME-QME-Work Comp etc.             16\n",
       " Chiropractic                       14\n",
       " Rheumatology                       10\n",
       " Diets and Nutritions               10\n",
       " Speech - Language                   9\n",
       " Autopsy                             8\n",
       " Lab Medicine - Pathology            8\n",
       " Allergy / Immunology                7\n",
       " Hospice - Palliative Care           6\n",
       "Name: medical_specialty, dtype: int64"
      ]
     },
     "execution_count": 5,
     "metadata": {},
     "output_type": "execute_result"
    }
   ],
   "source": [
    "data['medical_specialty'].value_counts()"
   ]
  },
  {
   "cell_type": "markdown",
   "id": "5192533b",
   "metadata": {},
   "source": [
    "## 2. Data Exploration\n",
    "\n"
   ]
  },
  {
   "cell_type": "code",
   "execution_count": 6,
   "id": "45b4a0f7",
   "metadata": {},
   "outputs": [
    {
     "name": "stderr",
     "output_type": "stream",
     "text": [
      "/Users/jadehuang/anaconda3/envs/mlenv/lib/python3.8/site-packages/pandas/core/indexing.py:1951: SettingWithCopyWarning: \n",
      "A value is trying to be set on a copy of a slice from a DataFrame.\n",
      "Try using .loc[row_indexer,col_indexer] = value instead\n",
      "\n",
      "See the caveats in the documentation: https://pandas.pydata.org/pandas-docs/stable/user_guide/indexing.html#returning-a-view-versus-a-copy\n",
      "  self.obj[selected_item_labels] = value\n"
     ]
    },
    {
     "data": {
      "text/plain": [
       "Surgery                       1103\n",
       "Cardiovascular / Pulmonary     372\n",
       "Orthopedic                     355\n",
       "Neurology                      317\n",
       "Radiology                      273\n",
       "General Medicine               259\n",
       "Urology                        239\n",
       "Gastroenterology               230\n",
       "Obstetrics / Gynecology        160\n",
       "ENT - Otolaryngology            98\n",
       "Hematology - Oncology           90\n",
       "Ophthalmology                   83\n",
       "Pediatrics - Neonatal           70\n",
       "Psychiatry / Psychology         53\n",
       "Podiatry                        47\n",
       "Dermatology                     29\n",
       "Cosmetic / Plastic Surgery      27\n",
       "Dentistry                       27\n",
       "Physical Medicine - Rehab       21\n",
       "Sleep Medicine                  20\n",
       "Endocrinology                   19\n",
       "Bariatrics                      18\n",
       "IME-QME-Work Comp etc.          16\n",
       "Chiropractic                    14\n",
       "Rheumatology                    10\n",
       "Diets and Nutritions            10\n",
       "Speech - Language                9\n",
       "Autopsy                          8\n",
       "Lab Medicine - Pathology         8\n",
       "Allergy / Immunology             7\n",
       "Hospice - Palliative Care        6\n",
       "Name: medical_specialty, dtype: int64"
      ]
     },
     "execution_count": 6,
     "metadata": {},
     "output_type": "execute_result"
    }
   ],
   "source": [
    "filtered_data = data[['transcription', 'medical_specialty']]\n",
    "filtered_data.loc[:, 'medical_specialty'] = filtered_data['medical_specialty'].apply(lambda x:str.strip(x))\n",
    "mask = (filtered_data['medical_specialty'] == 'SOAP / Chart / Progress Notes') | \\\n",
    "       (filtered_data['medical_specialty'] == 'Office Notes') | \\\n",
    "       (filtered_data['medical_specialty'] == 'Consult - History and Phy.') | \\\n",
    "       (filtered_data['medical_specialty'] == 'Emergency Room Reports') | \\\n",
    "       (filtered_data['medical_specialty'] == 'Discharge Summary') | \\\n",
    "       (filtered_data['medical_specialty'] == 'Letters') | \\\n",
    "       (filtered_data['medical_specialty'] == 'Pain Management')\n",
    "\n",
    "filtered_data = filtered_data[~mask]\n",
    "\n",
    "mask = filtered_data['medical_specialty'] == 'Neurosurgery'\n",
    "filtered_data.loc[mask, 'medical_specialty'] = 'Neurology'\n",
    "mask = filtered_data['medical_specialty'] == 'Nephrology'\n",
    "filtered_data.loc[mask, 'medical_specialty'] = 'Urology'\n",
    "\n",
    "filtered_data['medical_specialty'].value_counts()"
   ]
  },
  {
   "cell_type": "code",
   "execution_count": 7,
   "id": "f27c551b",
   "metadata": {},
   "outputs": [
    {
     "data": {
      "text/plain": [
       "Surgery                       1103\n",
       "Cardiovascular / Pulmonary     372\n",
       "Orthopedic                     355\n",
       "Neurology                      317\n",
       "Radiology                      273\n",
       "General Medicine               259\n",
       "Urology                        239\n",
       "Gastroenterology               230\n",
       "Obstetrics / Gynecology        160\n",
       "Name: medical_specialty, dtype: int64"
      ]
     },
     "execution_count": 7,
     "metadata": {},
     "output_type": "execute_result"
    }
   ],
   "source": [
    "data_categories  = filtered_data.groupby(filtered_data['medical_specialty'])\n",
    "filtered_data_categories = data_categories.filter(lambda x:x.shape[0] > 100)\n",
    "filtered_data_categories['medical_specialty'].value_counts()"
   ]
  },
  {
   "cell_type": "code",
   "execution_count": 8,
   "id": "d365607d",
   "metadata": {},
   "outputs": [
    {
     "data": {
      "text/plain": [
       "(3308, 2)"
      ]
     },
     "execution_count": 8,
     "metadata": {},
     "output_type": "execute_result"
    }
   ],
   "source": [
    "data = filtered_data_categories.sample(frac=1.0) # shuffling data to avoid artificial patterns\n",
    "data.shape"
   ]
  },
  {
   "cell_type": "markdown",
   "id": "c31b0e35",
   "metadata": {},
   "source": [
    "## 2. Data Preprocessing\n",
    "\n",
    "The major difference between a normal dataset and a NLP dataset is that the NLP dataset contains text features. A text feature consists of a list of sentences (called text or document corpus in NLP terminology). In terms of types of features, the difference is as follows:\n",
    "\n",
    "There are two types of features in a normal dataset:\n",
    "* numeric features (e.g., Temperature)\n",
    "* categorical features (e.g., States such as 'IL', 'WA', etc.)\n",
    "\n",
    "However there are three types of features in a dataset with NLP data:\n",
    "* numeric feature (e.g., Temperature)\n",
    "* categorical feature (e.g., the feature 'medical_specialty' as shown the above table)\n",
    "* text feature (e.g., the feature 'transcription' in the above table)\n",
    "\n",
    "In order to handle missing data, and reduce the size of vocabulary and training data, the following common data preprocessing steps are normally applied to a text feature (e.g., the transcription feature) for text classification:\n",
    "\n",
    "* handle missing data\n",
    "* standardize text\n",
    "* tokenize text\n",
    "* remove stopwords\n",
    "* stemming\n",
    "* lemmatize"
   ]
  },
  {
   "cell_type": "markdown",
   "id": "758f5620",
   "metadata": {},
   "source": [
    "### 2.1 Handle missing data\n",
    "Missing data is not allowed in machine learning. Missing data can be simply dropped if the number of missing entries is relatively small. The other common method in handling missing data in NLP is to copy information from other related feature in the dataset. For example the missing entries in the NLP feature 'transcription' can be filled up by copying the corresponding entries from the feature 'description' because the description is a summary of the transcription.\n",
    "\n",
    "In this article the missing entries in the feature transcription column are simply dropped without significantly compromise of model prediction accuracy because there are only 33 missing entries."
   ]
  },
  {
   "cell_type": "code",
   "execution_count": 9,
   "id": "0f361090",
   "metadata": {},
   "outputs": [
    {
     "name": "stdout",
     "output_type": "stream",
     "text": [
      "number of missing entries:  29\n"
     ]
    },
    {
     "data": {
      "text/plain": [
       "(3279, 2)"
      ]
     },
     "execution_count": 9,
     "metadata": {},
     "output_type": "execute_result"
    }
   ],
   "source": [
    "print('number of missing entries: ', data['transcription'].isna().sum())\n",
    "df = data.dropna(subset=['transcription'])\n",
    "df.shape"
   ]
  },
  {
   "cell_type": "code",
   "execution_count": 10,
   "id": "00a7f98e",
   "metadata": {},
   "outputs": [
    {
     "data": {
      "text/html": [
       "<div>\n",
       "<style scoped>\n",
       "    .dataframe tbody tr th:only-of-type {\n",
       "        vertical-align: middle;\n",
       "    }\n",
       "\n",
       "    .dataframe tbody tr th {\n",
       "        vertical-align: top;\n",
       "    }\n",
       "\n",
       "    .dataframe thead th {\n",
       "        text-align: right;\n",
       "    }\n",
       "</style>\n",
       "<table border=\"1\" class=\"dataframe\">\n",
       "  <thead>\n",
       "    <tr style=\"text-align: right;\">\n",
       "      <th></th>\n",
       "      <th>transcription</th>\n",
       "      <th>medical_specialty</th>\n",
       "    </tr>\n",
       "  </thead>\n",
       "  <tbody>\n",
       "    <tr>\n",
       "      <th>1642</th>\n",
       "      <td>HISTORY: , The patient is a 56-year-old right-...</td>\n",
       "      <td>Radiology</td>\n",
       "    </tr>\n",
       "    <tr>\n",
       "      <th>4670</th>\n",
       "      <td>OPERATION: , Insertion of a #8 Shiley tracheos...</td>\n",
       "      <td>Cardiovascular / Pulmonary</td>\n",
       "    </tr>\n",
       "    <tr>\n",
       "      <th>1090</th>\n",
       "      <td>PREOPERATIVE DIAGNOSIS:,  Critical left caroti...</td>\n",
       "      <td>Surgery</td>\n",
       "    </tr>\n",
       "    <tr>\n",
       "      <th>3046</th>\n",
       "      <td>CHIEF COMPLAINT:,  Right hydronephrosis.,HISTO...</td>\n",
       "      <td>Urology</td>\n",
       "    </tr>\n",
       "    <tr>\n",
       "      <th>4805</th>\n",
       "      <td>INDICATIONS: , An 82-year-old man entering the...</td>\n",
       "      <td>Cardiovascular / Pulmonary</td>\n",
       "    </tr>\n",
       "  </tbody>\n",
       "</table>\n",
       "</div>"
      ],
      "text/plain": [
       "                                          transcription  \\\n",
       "1642  HISTORY: , The patient is a 56-year-old right-...   \n",
       "4670  OPERATION: , Insertion of a #8 Shiley tracheos...   \n",
       "1090  PREOPERATIVE DIAGNOSIS:,  Critical left caroti...   \n",
       "3046  CHIEF COMPLAINT:,  Right hydronephrosis.,HISTO...   \n",
       "4805  INDICATIONS: , An 82-year-old man entering the...   \n",
       "\n",
       "               medical_specialty  \n",
       "1642                   Radiology  \n",
       "4670  Cardiovascular / Pulmonary  \n",
       "1090                     Surgery  \n",
       "3046                     Urology  \n",
       "4805  Cardiovascular / Pulmonary  "
      ]
     },
     "execution_count": 10,
     "metadata": {},
     "output_type": "execute_result"
    }
   ],
   "source": [
    "df.head()"
   ]
  },
  {
   "cell_type": "markdown",
   "id": "8aa6a07e",
   "metadata": {},
   "source": [
    "### 2.2 Extract Medical Entities "
   ]
  },
  {
   "cell_type": "code",
   "execution_count": 11,
   "id": "22b49044",
   "metadata": {},
   "outputs": [
    {
     "name": "stderr",
     "output_type": "stream",
     "text": [
      "/var/folders/3x/wpkp7yvd54g0b670ln55y27h0000gp/T/ipykernel_11470/641765842.py:13: SettingWithCopyWarning: \n",
      "A value is trying to be set on a copy of a slice from a DataFrame.\n",
      "Try using .loc[row_indexer,col_indexer] = value instead\n",
      "\n",
      "See the caveats in the documentation: https://pandas.pydata.org/pandas-docs/stable/user_guide/indexing.html#returning-a-view-versus-a-copy\n",
      "  df['transcription'] = df['transcription'].apply(medical_entities)\n"
     ]
    }
   ],
   "source": [
    "import spacy\n",
    "import en_ner_bionlp13cg_md\n",
    "\n",
    "nlp = en_ner_bionlp13cg_md.load()\n",
    "\n",
    "def medical_entities( text):\n",
    "    entities = []\n",
    "    doc = nlp(text)\n",
    "    for ent in doc.ents:\n",
    "        entities.append(ent.text)\n",
    "    return ' '.join(entities)\n",
    "\n",
    "df['transcription'] = df['transcription'].apply(medical_entities)"
   ]
  },
  {
   "cell_type": "markdown",
   "id": "0d35d548",
   "metadata": {},
   "source": [
    "### 2.3 Standardize text\n",
    "There are two common steps to standardize text:\n",
    "* change text to lower case: this helps to avoid the effort for a machine learning model to learn the case of characters.\n",
    "* remove punctuation: this helps to reduce the size of vocabulary\n",
    "\n",
    "Given a text string, these two steps can be done in one statement as follows:"
   ]
  },
  {
   "cell_type": "code",
   "execution_count": 12,
   "id": "7814a438",
   "metadata": {},
   "outputs": [
    {
     "data": {
      "text/plain": [
       "'patient female buttocks thigh left leg bowel bladder Medrol Dosepak spinal epidural extremities Straight leg lumbosacral spine lumbosacral paraspinal sensory distal F-waves extremities left tibial extremities lumbosacral paraspinal muscles lumbosacral paraspinal peroneus longus gastrocnemius medialis Left S1 nerve root peripheral neuropathy.,MRI lumbosacral spine L5-S1 patient spinal epidural injections'"
      ]
     },
     "execution_count": 12,
     "metadata": {},
     "output_type": "execute_result"
    }
   ],
   "source": [
    "text = df['transcription'].values[0]\n",
    "text"
   ]
  },
  {
   "cell_type": "code",
   "execution_count": 13,
   "id": "3933fba1",
   "metadata": {},
   "outputs": [
    {
     "data": {
      "text/plain": [
       "'patient female buttocks thigh left leg bowel bladder medrol dosepak spinal epidural extremities straight leg lumbosacral spine lumbosacral paraspinal sensory distal fwaves extremities left tibial extremities lumbosacral paraspinal muscles lumbosacral paraspinal peroneus longus gastrocnemius medialis left s1 nerve root peripheral neuropathymri lumbosacral spine l5s1 patient spinal epidural injections'"
      ]
     },
     "execution_count": 13,
     "metadata": {},
     "output_type": "execute_result"
    }
   ],
   "source": [
    "# change to lower case and remove punctuation\n",
    "text = text.lower().translate(str.maketrans('', '', string.punctuation))\n",
    "text"
   ]
  },
  {
   "cell_type": "markdown",
   "id": "01f3d80d",
   "metadata": {},
   "source": [
    "### 2.4 Tokenize text\n",
    "\n",
    "This helps to divide a text into elements of vocabulary. word-level (1-gram) tokenization is commonly used if text is treated as sequence of words. Word-level tokenization also enables the activities of removing stopwords, stemming, and lemmatization. \n",
    "\n",
    "N-gram ( typically N = 2 or 3) tokenization is usually used if text is treated as bag of words. \n",
    "\n",
    "As an example, the code below uses scikit-learn library to tokenize a text string into individual words/tokens."
   ]
  },
  {
   "cell_type": "code",
   "execution_count": 14,
   "id": "61767689",
   "metadata": {},
   "outputs": [
    {
     "data": {
      "text/plain": [
       "['patient',\n",
       " 'female',\n",
       " 'buttocks',\n",
       " 'thigh',\n",
       " 'left',\n",
       " 'leg',\n",
       " 'bowel',\n",
       " 'bladder',\n",
       " 'medrol',\n",
       " 'dosepak',\n",
       " 'spinal',\n",
       " 'epidural',\n",
       " 'extremities',\n",
       " 'straight',\n",
       " 'leg',\n",
       " 'lumbosacral',\n",
       " 'spine',\n",
       " 'lumbosacral',\n",
       " 'paraspinal',\n",
       " 'sensory',\n",
       " 'distal',\n",
       " 'fwaves',\n",
       " 'extremities',\n",
       " 'left',\n",
       " 'tibial',\n",
       " 'extremities',\n",
       " 'lumbosacral',\n",
       " 'paraspinal',\n",
       " 'muscles',\n",
       " 'lumbosacral',\n",
       " 'paraspinal',\n",
       " 'peroneus',\n",
       " 'longus',\n",
       " 'gastrocnemius',\n",
       " 'medialis',\n",
       " 'left',\n",
       " 's1',\n",
       " 'nerve',\n",
       " 'root',\n",
       " 'peripheral',\n",
       " 'neuropathymri',\n",
       " 'lumbosacral',\n",
       " 'spine',\n",
       " 'l5s1',\n",
       " 'patient',\n",
       " 'spinal',\n",
       " 'epidural',\n",
       " 'injections']"
      ]
     },
     "execution_count": 14,
     "metadata": {},
     "output_type": "execute_result"
    }
   ],
   "source": [
    "from nltk.tokenize import word_tokenize\n",
    "\n",
    "# divide string into individual words\n",
    "tokens = word_tokenize(text)\n",
    "tokens"
   ]
  },
  {
   "cell_type": "markdown",
   "id": "d420cd62",
   "metadata": {},
   "source": [
    "### 2.5 Remove Stopwords\n",
    "\n",
    "this helps to reduce the size of vocabulary without compromise of model prediction accuracy. The following code uses the NLTK library to remove English stopwords from tokenized words."
   ]
  },
  {
   "cell_type": "code",
   "execution_count": 15,
   "id": "76eafa49",
   "metadata": {},
   "outputs": [
    {
     "data": {
      "text/plain": [
       "['patient',\n",
       " 'female',\n",
       " 'buttocks',\n",
       " 'thigh',\n",
       " 'left',\n",
       " 'leg',\n",
       " 'bowel',\n",
       " 'bladder',\n",
       " 'medrol',\n",
       " 'dosepak',\n",
       " 'spinal',\n",
       " 'epidural',\n",
       " 'extremities',\n",
       " 'straight',\n",
       " 'leg',\n",
       " 'lumbosacral',\n",
       " 'spine',\n",
       " 'lumbosacral',\n",
       " 'paraspinal',\n",
       " 'sensory',\n",
       " 'distal',\n",
       " 'fwaves',\n",
       " 'extremities',\n",
       " 'left',\n",
       " 'tibial',\n",
       " 'extremities',\n",
       " 'lumbosacral',\n",
       " 'paraspinal',\n",
       " 'muscles',\n",
       " 'lumbosacral',\n",
       " 'paraspinal',\n",
       " 'peroneus',\n",
       " 'longus',\n",
       " 'gastrocnemius',\n",
       " 'medialis',\n",
       " 'left',\n",
       " 's1',\n",
       " 'nerve',\n",
       " 'root',\n",
       " 'peripheral',\n",
       " 'neuropathymri',\n",
       " 'lumbosacral',\n",
       " 'spine',\n",
       " 'l5s1',\n",
       " 'patient',\n",
       " 'spinal',\n",
       " 'epidural',\n",
       " 'injections']"
      ]
     },
     "execution_count": 15,
     "metadata": {},
     "output_type": "execute_result"
    }
   ],
   "source": [
    "from nltk.corpus import stopwords\n",
    "\n",
    "english_stopwords = set(stopwords.words('english'))\n",
    "\n",
    "clean_tokens = []\n",
    "for tok in tokens:\n",
    "    tok = tok.strip() # remove space\n",
    "    if tok not in english_stopwords:\n",
    "        clean_tokens.append(tok)\n",
    "        \n",
    "clean_tokens"
   ]
  },
  {
   "cell_type": "markdown",
   "id": "24b8a498",
   "metadata": {},
   "source": [
    "### 2.6 stemming\n",
    "\n",
    "This helps to reduce the size of vocabulary. The following code uses the NLTK library for stemming a word/token."
   ]
  },
  {
   "cell_type": "code",
   "execution_count": 16,
   "id": "d287989a",
   "metadata": {},
   "outputs": [
    {
     "data": {
      "text/plain": [
       "'be'"
      ]
     },
     "execution_count": 16,
     "metadata": {},
     "output_type": "execute_result"
    }
   ],
   "source": [
    "from nltk.stem import PorterStemmer\n",
    "\n",
    "# create Stemmer object\n",
    "stemmer = PorterStemmer()\n",
    "stemming_word = stemmer.stem('being') # Stemming\n",
    "stemming_word"
   ]
  },
  {
   "cell_type": "markdown",
   "id": "7b312a2e",
   "metadata": {},
   "source": [
    "### 2.7 Lemmatize\n",
    "\n",
    "This helps to reduce the size of vocabulary. The code below uses the NLTK library to lemmatize a word/token."
   ]
  },
  {
   "cell_type": "code",
   "execution_count": 17,
   "id": "e4998037",
   "metadata": {},
   "outputs": [
    {
     "data": {
      "text/plain": [
       "'word'"
      ]
     },
     "execution_count": 17,
     "metadata": {},
     "output_type": "execute_result"
    }
   ],
   "source": [
    "from nltk.stem import WordNetLemmatizer\n",
    "\n",
    "# change words to its root format\n",
    "lemmatizer = WordNetLemmatizer()\n",
    "root_word = lemmatizer.lemmatize('words') # lemmatizition\n",
    "root_word"
   ]
  },
  {
   "cell_type": "markdown",
   "id": "c5400e87",
   "metadata": {},
   "source": [
    "The data preprocessing steps above can be combined into one function to clean up a text string:"
   ]
  },
  {
   "cell_type": "code",
   "execution_count": 18,
   "id": "5cf6f21e",
   "metadata": {},
   "outputs": [
    {
     "data": {
      "text/plain": [
       "'patient femal buttock thigh left leg bowel bladder medrol dosepak spinal epidur extrem straight leg lumbosacr spine lumbosacr paraspin sensori distal fwave extrem left tibial extrem lumbosacr paraspin muscl lumbosacr paraspin peroneu longu gastrocnemiu mediali left s1 nerv root peripher neuropathymri lumbosacr spine l5s1 patient spinal epidur inject'"
      ]
     },
     "execution_count": 18,
     "metadata": {},
     "output_type": "execute_result"
    }
   ],
   "source": [
    "def clean_text(text):\n",
    "    # get English stopwords\n",
    "    english_stopwords = set(stopwords.words('english'))\n",
    "    \n",
    "    # change to lower case and remove punctuation\n",
    "    text = text.lower().translate(str.maketrans('', '', string.punctuation))\n",
    "    \n",
    "    # divide string into individual words\n",
    "    tokens = word_tokenize(text)\n",
    "    \n",
    "    # create Stemmer object\n",
    "    stemmer = PorterStemmer()\n",
    "    \n",
    "    # change words to its root format\n",
    "    lemmatizer = WordNetLemmatizer()\n",
    "\n",
    "    clean_tokens = []\n",
    "    for tok in tokens:\n",
    "        tok = tok.strip() # remove space\n",
    "        if tok not in english_stopwords:\n",
    "            clean_tok = lemmatizer.lemmatize(tok) # lemmatizition\n",
    "            clean_tok = stemmer.stem(clean_tok) # Stemming\n",
    "            clean_tokens.append(clean_tok)\n",
    "\n",
    "    return \" \".join(clean_tokens) # combine tokens into one string when necessary\n",
    "\n",
    "text = df['transcription'].values[0]\n",
    "clean_tokens = clean_text(text)\n",
    "clean_tokens"
   ]
  },
  {
   "cell_type": "markdown",
   "id": "a060164a",
   "metadata": {},
   "source": [
    "## 3. Feature Engineering\n",
    "\n",
    "Once a text feature is preprocessed, each text (document) needs to be encoded as a vector of numbers (called vectorization) since machine learning and deep learning models only understand numbers. The selection of encoding method depends on how text is interpreted. In text classification, a text string (document) is typically treated as either a bag of words or a sequence of words. The following are some of the common text encoding/vectorization methods.\n",
    "\n",
    "If a text is treated as bag of words, we can use the methods below to convert a text as one vector of numbers:\n",
    "* TF-IDF vetorization\n",
    "* Multi-Hot encoding\n",
    "\n",
    "### 3.1 TF-IDF Vcetorization\n",
    "The Multi-Hot encoding method encodes one text/document as a sparse vector of the length of vocabulary with the values of the 0's and 1's, which 1's indicate the presence of the corresponding words/tokens in the vocabulary.\n",
    "\n",
    "Similarly to Multi-Hot, the TF-IDF vetorization also encodes one text as a sparse vector of the length of vocabulary. The major difference is that TF-IDF encoded vector records not only the presence information of the corresponding words/tokens in the vocabulary but also the token frequency (TF) weighted by the inverted document frequency (IDF). Because of this, TF-IDF encoded vector has more prediction power then Muti-Hot encoding.\n",
    "\n",
    "The following code shows how to use TF-IDF to encode a given text string as one sparse vector:"
   ]
  },
  {
   "cell_type": "code",
   "execution_count": 19,
   "id": "089a7d4e",
   "metadata": {},
   "outputs": [
    {
     "data": {
      "text/plain": [
       "matrix([[0.46167266, 0.02946847, 0.00982282, 0.00982282, 0.00982282,\n",
       "         0.01964565, 0.00982282, 0.00982282, 0.04911411, 0.01964565,\n",
       "         0.02946847, 0.01964565, 0.00982282, 0.00982282, 0.00982282,\n",
       "         0.00982282, 0.00982282, 0.00982282, 0.11787387, 0.00982282,\n",
       "         0.04911411, 0.00982282, 0.04911411, 0.02946847, 0.01964565,\n",
       "         0.00982282, 0.01964565, 0.01964565, 0.05893694, 0.03929129,\n",
       "         0.01964565, 0.00982282, 0.00982282, 0.06875976, 0.00982282,\n",
       "         0.00982282, 0.03929129, 0.00982282, 0.01964565, 0.00982282,\n",
       "         0.00982282, 0.01964565, 0.01964565, 0.00982282, 0.00982282,\n",
       "         0.00982282, 0.00982282, 0.00982282, 0.24557056, 0.04911411,\n",
       "         0.04911411, 0.00982282, 0.00982282, 0.00982282, 0.00982282,\n",
       "         0.00982282, 0.00982282, 0.05893694, 0.04911411, 0.00982282,\n",
       "         0.02946847, 0.02946847, 0.03929129, 0.02946847, 0.00982282,\n",
       "         0.02946847, 0.00982282, 0.01964565, 0.00982282, 0.00982282,\n",
       "         0.0884054 , 0.00982282, 0.00982282, 0.00982282, 0.00982282,\n",
       "         0.05893694, 0.04911411, 0.00982282, 0.00982282, 0.00982282,\n",
       "         0.0884054 , 0.00982282, 0.00982282, 0.00982282, 0.00982282,\n",
       "         0.00982282, 0.00982282, 0.04911411, 0.04911411, 0.00982282,\n",
       "         0.07858258, 0.00982282, 0.00982282, 0.00982282, 0.00982282,\n",
       "         0.01964565, 0.00982282, 0.00982282, 0.00982282, 0.00982282,\n",
       "         0.00982282, 0.00982282, 0.01964565, 0.01964565, 0.32415314,\n",
       "         0.02946847, 0.00982282, 0.01964565, 0.00982282, 0.00982282,\n",
       "         0.01964565, 0.00982282, 0.00982282, 0.02946847, 0.02946847,\n",
       "         0.01964565, 0.01964565, 0.00982282, 0.00982282, 0.04911411,\n",
       "         0.02946847, 0.00982282, 0.00982282, 0.02946847, 0.00982282,\n",
       "         0.01964565, 0.02946847, 0.00982282, 0.01964565, 0.04911411,\n",
       "         0.01964565, 0.00982282, 0.00982282, 0.00982282, 0.01964565,\n",
       "         0.00982282, 0.00982282, 0.02946847, 0.02946847, 0.04911411,\n",
       "         0.00982282, 0.00982282, 0.02946847, 0.02946847, 0.00982282,\n",
       "         0.00982282, 0.05893694, 0.01964565, 0.00982282, 0.00982282,\n",
       "         0.00982282, 0.00982282, 0.01964565, 0.00982282, 0.00982282,\n",
       "         0.00982282, 0.00982282, 0.04911411, 0.00982282, 0.00982282,\n",
       "         0.00982282, 0.00982282, 0.00982282, 0.00982282, 0.00982282,\n",
       "         0.00982282, 0.00982282, 0.00982282, 0.22592492, 0.02946847,\n",
       "         0.00982282, 0.01964565, 0.01964565, 0.01964565, 0.00982282,\n",
       "         0.00982282, 0.01964565, 0.01964565, 0.01964565, 0.01964565,\n",
       "         0.01964565, 0.01964565, 0.07858258, 0.02946847, 0.01964565,\n",
       "         0.01964565, 0.00982282, 0.00982282, 0.00982282, 0.00982282,\n",
       "         0.00982282, 0.00982282, 0.00982282, 0.00982282, 0.00982282,\n",
       "         0.00982282, 0.01964565, 0.01964565, 0.00982282, 0.00982282,\n",
       "         0.2161021 , 0.07858258, 0.01964565, 0.00982282, 0.02946847,\n",
       "         0.00982282, 0.00982282, 0.00982282, 0.00982282, 0.00982282,\n",
       "         0.00982282, 0.04911411, 0.02946847, 0.01964565, 0.00982282,\n",
       "         0.00982282, 0.00982282, 0.00982282, 0.04911411, 0.04911411,\n",
       "         0.13751952, 0.02946847, 0.01964565, 0.00982282, 0.00982282,\n",
       "         0.00982282, 0.04911411, 0.04911411, 0.01964565, 0.01964565,\n",
       "         0.00982282, 0.00982282, 0.00982282, 0.00982282, 0.00982282,\n",
       "         0.00982282, 0.15716516, 0.02946847, 0.00982282, 0.00982282,\n",
       "         0.00982282, 0.01964565, 0.01964565, 0.05893694, 0.01964565,\n",
       "         0.00982282, 0.00982282, 0.01964565, 0.00982282, 0.00982282,\n",
       "         0.00982282, 0.00982282, 0.00982282, 0.00982282, 0.01964565,\n",
       "         0.01964565, 0.15716516, 0.01964565, 0.00982282, 0.00982282,\n",
       "         0.00982282, 0.00982282, 0.01964565, 0.00982282, 0.00982282,\n",
       "         0.00982282, 0.00982282, 0.00982282, 0.00982282, 0.00982282,\n",
       "         0.00982282, 0.05893694, 0.04911411, 0.00982282, 0.00982282,\n",
       "         0.00982282, 0.00982282, 0.00982282, 0.18663363, 0.06875976,\n",
       "         0.00982282, 0.02946847, 0.02946847, 0.01964565, 0.01964565,\n",
       "         0.00982282, 0.00982282, 0.0884054 , 0.01964565, 0.06875976,\n",
       "         0.24557056, 0.0884054 , 0.00982282, 0.00982282, 0.00982282,\n",
       "         0.00982282, 0.02946847, 0.01964565, 0.03929129, 0.00982282,\n",
       "         0.02946847, 0.02946847, 0.02946847, 0.02946847, 0.01964565,\n",
       "         0.00982282, 0.04911411, 0.00982282, 0.00982282, 0.00982282,\n",
       "         0.00982282, 0.00982282, 0.00982282, 0.00982282, 0.20627927,\n",
       "         0.01964565, 0.01964565, 0.04911411, 0.04911411, 0.00982282,\n",
       "         0.00982282, 0.01964565, 0.00982282, 0.00982282, 0.00982282,\n",
       "         0.00982282, 0.06875976, 0.06875976, 0.02946847, 0.00982282,\n",
       "         0.01964565, 0.20627927, 0.06875976, 0.00982282, 0.01964565,\n",
       "         0.00982282, 0.01964565, 0.00982282, 0.00982282, 0.00982282,\n",
       "         0.01964565, 0.00982282, 0.00982282, 0.02946847, 0.00982282,\n",
       "         0.01964565, 0.00982282, 0.00982282, 0.04911411, 0.00982282,\n",
       "         0.02946847, 0.00982282, 0.00982282, 0.00982282, 0.12769669,\n",
       "         0.02946847, 0.00982282, 0.00982282, 0.00982282, 0.04911411,\n",
       "         0.04911411, 0.02946847, 0.01964565, 0.00982282, 0.00982282,\n",
       "         0.00982282, 0.00982282, 0.00982282, 0.01964565, 0.00982282,\n",
       "         0.00982282, 0.00982282, 0.00982282, 0.01964565, 0.00982282,\n",
       "         0.00982282, 0.00982282, 0.00982282, 0.02946847, 0.02946847,\n",
       "         0.02946847, 0.00982282, 0.00982282, 0.00982282]])"
      ]
     },
     "execution_count": 19,
     "metadata": {},
     "output_type": "execute_result"
    }
   ],
   "source": [
    "from sklearn.feature_extraction.text import TfidfTransformer\n",
    "\n",
    "# TF-IDF encoding\n",
    "text_array = df['transcription'].values[0:1]\n",
    "tfidf = TfidfVectorizer(tokenizer=clean_text, ngram_range=(1,3))\n",
    "tfidf_encoded_text = tfidf.fit_transform(text_array)\n",
    "tfidf_encoded_text.todense()"
   ]
  },
  {
   "cell_type": "code",
   "execution_count": 20,
   "id": "2e1be7ba",
   "metadata": {},
   "outputs": [],
   "source": [
    "from sklearn.preprocessing import LabelEncoder\n",
    "from sklearn.decomposition import PCA\n",
    "from imblearn.over_sampling import SMOTE\n",
    "\n",
    "def tfidf_pca(X_feature, y_label):\n",
    "    '''\n",
    "    X_feature = df['transcription'].values\n",
    "    y_label = df['medical_specialty'].values\n",
    "    '''\n",
    "    \n",
    "    le = LabelEncoder()\n",
    "    y_int = le.fit_transform(y_label)\n",
    "\n",
    "    tfidf = TfidfVectorizer(tokenizer=clean_text, ngram_range=(1,3))\n",
    "    pca = PCA(n_components=0.95)\n",
    "    X_tfidf = tfidf.fit_transform(X_feature)\n",
    "    X_pca = pca.fit_transform(X_tfidf.toarray())\n",
    "\n",
    "    smote_over_sample = SMOTE(sampling_strategy='minority')\n",
    "\n",
    "    X, y = smote_over_sample.fit_resample(X_pca, y_int.tolist())\n",
    "\n",
    "    X = np.array(X)\n",
    "    y = np.array(y)\n",
    "    \n",
    "    return X, y"
   ]
  },
  {
   "cell_type": "markdown",
   "id": "cf79cd07",
   "metadata": {},
   "source": [
    "### 3.2 Word Embedding\n",
    "\n",
    "If a text is treated as a sequence of words, we can use the following common methods to convert each word in a text as one vector and the whole text as an array of vectors:\n",
    "* One-Hot Encoding: encode each word as a sparse vector of the length of vocabulary (typically tens or hundreds of thousands).\n",
    "* Word Embedding: encode each word as a dense vector of much shorter length (typically 250, 500, or 1,000) \n",
    "\n",
    "In addition to shorter length, the other big advantage of word embedding over one-hot encoding is that word embedding encodes the meaning of the word in such a way so that the words that are closer in the vector space are  similar in meaning. \n",
    "\n",
    "Given a text/document, there are two steps to map it to a dense vector of a given size:\n",
    "* Step 1: convert the text into a vector of word/token indicies in the vocabulary\n",
    "* Step 2: use a custom trained or pre-trained word embedding algorithm (e.g., Word2Vec and GloVe) to convert each word index into a dense vector of float numbers\n",
    "\n",
    "The following code shows how to convert a text into a vector of word/token indicies in the vocabulary."
   ]
  },
  {
   "cell_type": "code",
   "execution_count": 21,
   "id": "f1e39329",
   "metadata": {},
   "outputs": [],
   "source": [
    "from tensorflow.keras import layers\n",
    "\n",
    "def indecies_vectorize(X_feature, y_label, max_length = 1500, max_tokens = MAX_TOKENS):\n",
    "    '''\n",
    "    X_feature: df['transcription'].values\n",
    "    max_length: maximum number of words in one text/document\n",
    "    max_tokens: the length of vocabulary\n",
    "    '''\n",
    "    \n",
    "    le = LabelEncoder()\n",
    "    y_int = le.fit_transform(y_label)\n",
    "    \n",
    "    text_vectorization = layers.TextVectorization(\n",
    "        max_tokens=max_tokens,\n",
    "        output_mode=\"int\",\n",
    "        output_sequence_length=max_length,\n",
    "    )\n",
    "\n",
    "    # training the text vectorization object\n",
    "    text_vectorization.adapt(X_feature) \n",
    "    # convert preprocessed training text into anrray of integers/indecies\n",
    "    indecies_array = text_vectorization(X_feature) \n",
    "    \n",
    "    smote_over_sample = SMOTE(sampling_strategy='minority')\n",
    "    X, y = smote_over_sample.fit_resample(indecies_array, y_int)\n",
    "    \n",
    "    X = np.array(X)\n",
    "    y = np.array(y)\n",
    "\n",
    "    return X, y"
   ]
  },
  {
   "cell_type": "markdown",
   "id": "9cf78652",
   "metadata": {},
   "source": [
    "The code below shows how to use a custom trained word embedding layer from Keras to encode a vector of word indices as a sequence of dense vectors of length 250."
   ]
  },
  {
   "cell_type": "code",
   "execution_count": 22,
   "id": "68d98313",
   "metadata": {},
   "outputs": [
    {
     "name": "stderr",
     "output_type": "stream",
     "text": [
      "2022-03-15 22:21:06.123542: I tensorflow/core/platform/cpu_feature_guard.cc:151] This TensorFlow binary is optimized with oneAPI Deep Neural Network Library (oneDNN) to use the following CPU instructions in performance-critical operations:  AVX2 FMA\n",
      "To enable them in other operations, rebuild TensorFlow with the appropriate compiler flags.\n"
     ]
    }
   ],
   "source": [
    "import keras\n",
    "\n",
    "# create input layer\n",
    "inputs = keras.Input(shape=(None,), dtype=\"int64\")\n",
    "\n",
    "# add word embedding layer\n",
    "embedded = layers.Embedding(input_dim=MAX_TOKENS, output_dim=256, mask_zero=True)(inputs)"
   ]
  },
  {
   "cell_type": "markdown",
   "id": "23ad180b",
   "metadata": {},
   "source": [
    "### 3.3 Positional Embedding \n",
    "\n"
   ]
  },
  {
   "cell_type": "code",
   "execution_count": 23,
   "id": "8798a857",
   "metadata": {},
   "outputs": [],
   "source": [
    "class PositionalEmbedding(layers.Layer):\n",
    "    def __init__(self, sequence_length, input_dim, output_dim, **kwargs):\n",
    "        super().__init__(**kwargs)\n",
    "        self.token_embeddings = layers.Embedding(\n",
    "            input_dim=input_dim, output_dim=output_dim)\n",
    "        \n",
    "        self.position_embeddings = layers.Embedding(\n",
    "            input_dim=sequence_length, output_dim=output_dim)\n",
    "        \n",
    "        self.sequence_length = sequence_length\n",
    "        self.input_dim = input_dim\n",
    "        self.output_dim = output_dim\n",
    "\n",
    "    def call(self, inputs):\n",
    "        length = tf.shape(inputs)[-1]\n",
    "        positions = tf.range(start=0, limit=length, delta=1)\n",
    "        embedded_tokens = self.token_embeddings(inputs)\n",
    "        embedded_positions = self.position_embeddings(positions)\n",
    "        return embedded_tokens + embedded_positions\n",
    "\n",
    "    def compute_mask(self, inputs, mask=None):\n",
    "        return tf.math.not_equal(inputs, 0)\n",
    "\n",
    "    def get_config(self):\n",
    "        config = super().get_config()\n",
    "        config.update({\n",
    "            \"output_dim\": self.output_dim,\n",
    "            \"sequence_length\": self.sequence_length,\n",
    "            \"input_dim\": self.input_dim,\n",
    "        })\n",
    "        return config"
   ]
  },
  {
   "cell_type": "markdown",
   "id": "d51b5173",
   "metadata": {},
   "source": [
    "The table below is a summary of the selections of different text encoding methods.\n",
    "\n",
    "| Text Treatment Methods| Text Encoding Methods|\n",
    "|:---|:---|\n",
    "|Bag of Words |TF-IDF |\n",
    "|Bag of Words|Multi-Hot |\n",
    "|Sequence of Words |One-Hot |\n",
    "|Sequence of Words |Word Embedding |\n",
    "|Sequence of Words |Positional Embedding |"
   ]
  },
  {
   "cell_type": "markdown",
   "id": "4136183b",
   "metadata": {},
   "source": [
    "## 4. Model Selection\n",
    "\n",
    "Similarly to the selection of text encoding methods, the selection of a machine learning or deep learning model for text classification depends on how text is encoded. Specifically, we can select a model as shown in the table below:\n",
    "\n",
    "|Text Encoding Methods |Machine Learning or Deep Learning Models |\n",
    "|:---|:---|\n",
    "|TF-IDF |Any non-sequence classification model such as Logistic Regression, XGBoost, Random Forest, MLP, etc. |\n",
    "|Multi-Hot |Any non-sequence classification model such as Logistic Regression, XGBoost, Random Forest, MLP, etc. |\n",
    "|Word Embedding |Any sequence classification model such as LSTM, GRU, etc. |\n",
    "|One-Hot Encoding |Any sequence classification model such as LSTM, GRU, etc. |\n",
    "|Positional Embedding |Transformer |\n",
    "\n",
    "The TransformerEncoder class below implements an attention-based transformer for clinical text classification in this article."
   ]
  },
  {
   "cell_type": "code",
   "execution_count": 24,
   "id": "b37de646",
   "metadata": {},
   "outputs": [],
   "source": [
    "import tensorflow as tf\n",
    "from tensorflow import keras\n",
    "from tensorflow.keras import layers\n",
    "\n",
    "class TransformerEncoder(layers.Layer):\n",
    "    def __init__(self, embed_dim, dense_dim, num_heads, **kwargs):\n",
    "        super().__init__(**kwargs)\n",
    "        self.embed_dim = embed_dim\n",
    "        self.dense_dim = dense_dim\n",
    "        self.num_heads = num_heads\n",
    "        self.attention = layers.MultiHeadAttention(\n",
    "            num_heads=num_heads, key_dim=embed_dim)\n",
    "        self.dense_proj = keras.Sequential(\n",
    "            [layers.Dense(dense_dim, activation=\"relu\"),\n",
    "             layers.Dense(embed_dim),]\n",
    "        )\n",
    "        self.layernorm_1 = layers.LayerNormalization()\n",
    "        self.layernorm_2 = layers.LayerNormalization()\n",
    "\n",
    "    def call(self, inputs, mask=None):\n",
    "        if mask is not None:\n",
    "            mask = mask[:, tf.newaxis, :]\n",
    "        attention_output = self.attention(\n",
    "            inputs, inputs, attention_mask=mask)\n",
    "        proj_input = self.layernorm_1(inputs + attention_output)\n",
    "        proj_output = self.dense_proj(proj_input)\n",
    "        return self.layernorm_2(proj_input + proj_output)\n",
    "\n",
    "    def get_config(self):\n",
    "        config = super().get_config()\n",
    "        config.update({\n",
    "            \"embed_dim\": self.embed_dim,\n",
    "            \"num_heads\": self.num_heads,\n",
    "            \"dense_dim\": self.dense_dim,\n",
    "        })\n",
    "        return config"
   ]
  },
  {
   "cell_type": "markdown",
   "id": "fb414b66",
   "metadata": {},
   "source": [
    "\n",
    "## 5. Model Training\n",
    "\n",
    "Typically we need to split the dataset into training, validation, and testing subsets before model training begins. For simplicity, the dataset is only split into two subsets in this article: one for model training and the other for model testing/evaluation.  "
   ]
  },
  {
   "cell_type": "code",
   "execution_count": 25,
   "id": "b5fbe7f7",
   "metadata": {},
   "outputs": [
    {
     "data": {
      "text/plain": [
       "((3159, 845), (1053, 845), (3159,), (1053,))"
      ]
     },
     "execution_count": 25,
     "metadata": {},
     "output_type": "execute_result"
    }
   ],
   "source": [
    "from sklearn.model_selection import train_test_split\n",
    "\n",
    "X_feature = df['transcription'].values\n",
    "y_label = df['medical_specialty'].values\n",
    "\n",
    "if SEQUENCE_MODEL:\n",
    "    X, y = indecies_vectorize(X_feature, y_label)\n",
    "else:   \n",
    "    X, y = tfidf_pca(X_feature, y_label)\n",
    "\n",
    "X_train, X_test, y_train, y_test = train_test_split(X, y, test_size=0.25, random_state=42)\n",
    "X_train.shape, X_test.shape, y_train.shape, y_test.shape"
   ]
  },
  {
   "cell_type": "markdown",
   "id": "bc272b6b",
   "metadata": {},
   "source": [
    "### 5.1 Non-Sequence Modeling with TF-IDF\n",
    "\n",
    "In this article I use Random Forest with TF-IDF encoding to demonstrate how to perform non-sequence modeling for text classification (see the code below)."
   ]
  },
  {
   "cell_type": "code",
   "execution_count": 26,
   "id": "96238166",
   "metadata": {},
   "outputs": [],
   "source": [
    "from sklearn.pipeline import Pipeline\n",
    "from sklearn.ensemble import RandomForestClassifier\n",
    "from sklearn.decomposition import PCA\n",
    "\n",
    "if not SEQUENCE_MODEL:\n",
    "    rf_clf = RandomForestClassifier(n_estimators=200, max_depth=10)\n",
    "    rf_clf.fit(X_train, y_train)\n"
   ]
  },
  {
   "cell_type": "code",
   "execution_count": 27,
   "id": "2d63e264",
   "metadata": {},
   "outputs": [],
   "source": [
    "from sklearn.linear_model import LogisticRegression\n",
    "\n",
    "if not SEQUENCE_MODEL:\n",
    "    logistic_clf = LogisticRegression(penalty= 'elasticnet', solver= 'saga', l1_ratio=0.5, random_state=1)\n",
    "    logistic_clf.fit(X_train, y_train)\n"
   ]
  },
  {
   "cell_type": "code",
   "execution_count": 28,
   "id": "80cb4c7c",
   "metadata": {},
   "outputs": [],
   "source": [
    "from sklearn.multioutput import MultiOutputClassifier\n",
    "from sklearn.neighbors import KNeighborsClassifier\n",
    "\n",
    "if not SEQUENCE_MODEL:\n",
    "    multi_class_clf = MultiOutputClassifier(KNeighborsClassifier())\n",
    "    y_train = y_train.reshape(-1, 1)\n",
    "    multi_class_clf.fit(X_train, y_train)\n"
   ]
  },
  {
   "cell_type": "markdown",
   "id": "1e5574c4",
   "metadata": {},
   "source": [
    "### 5.2 Sequence Modeling Using LSTM with Word Embedding\n",
    "\n",
    "In this article I use LSTM with custom word embedding to demonstrate how to perform sequence modeling for text classification (see code below)."
   ]
  },
  {
   "cell_type": "code",
   "execution_count": 29,
   "id": "b5ddc35c",
   "metadata": {},
   "outputs": [
    {
     "name": "stdout",
     "output_type": "stream",
     "text": [
      "Found 400000 word vectors.\n"
     ]
    }
   ],
   "source": [
    "import numpy as np\n",
    "path_to_glove_file = \"./data/glove.6B.100d.txt\"\n",
    "\n",
    "embeddings_index = {}\n",
    "with open(path_to_glove_file) as f:\n",
    "    for line in f:\n",
    "        word, coefs = line.split(maxsplit=1)\n",
    "        coefs = np.fromstring(coefs, \"f\", sep=\" \")\n",
    "        embeddings_index[word] = coefs\n",
    "\n",
    "print(f\"Found {len(embeddings_index)} word vectors.\")"
   ]
  },
  {
   "cell_type": "code",
   "execution_count": 30,
   "id": "f7c5cd9b",
   "metadata": {},
   "outputs": [],
   "source": [
    "embedding_dim = 100\n",
    "\n",
    "text_vectorization = layers.TextVectorization(\n",
    "        max_tokens=MAX_TOKENS,\n",
    "        output_mode=\"int\",\n",
    "        output_sequence_length=MAX_LENGTH,\n",
    "    )\n",
    "\n",
    "vocabulary = text_vectorization.get_vocabulary()\n",
    "word_index = dict(zip(vocabulary, range(len(vocabulary))))\n",
    "\n",
    "embedding_matrix = np.zeros((MAX_TOKENS, embedding_dim))\n",
    "for word, i in word_index.items():\n",
    "    if i < MAX_TOKENS:\n",
    "        embedding_vector = embeddings_index.get(word)\n",
    "    if embedding_vector is not None:\n",
    "        embedding_matrix[i] = embedding_vector"
   ]
  },
  {
   "cell_type": "code",
   "execution_count": 31,
   "id": "9e8fbc1e",
   "metadata": {},
   "outputs": [],
   "source": [
    "embedding_layer = layers.Embedding(\n",
    "    MAX_TOKENS,\n",
    "    embedding_dim,\n",
    "    embeddings_initializer=keras.initializers.Constant(embedding_matrix),\n",
    "    trainable=False,\n",
    "    mask_zero=True,\n",
    ")"
   ]
  },
  {
   "cell_type": "code",
   "execution_count": 32,
   "id": "ccebdf2e",
   "metadata": {},
   "outputs": [],
   "source": [
    "import keras\n",
    "\n",
    "def create_lstm_model(embedding_layer = None):\n",
    "    # create input layer\n",
    "    inputs = keras.Input(shape=(None,), dtype=\"int64\")\n",
    "\n",
    "    # add word embedding layer\n",
    "    if embedding_layer is not None:\n",
    "        embedded = embedding_layer(inputs)\n",
    "    else:\n",
    "        embedded = layers.Embedding(input_dim=MAX_TOKENS, output_dim=256, mask_zero=True)(inputs)\n",
    "\n",
    "    # add LSTM layer\n",
    "    x = layers.Bidirectional(layers.LSTM(32))(embedded)\n",
    "\n",
    "    # add dropout layer\n",
    "    x = layers.Dropout(0.5)(x)\n",
    "\n",
    "    # add output layer\n",
    "    outputs = layers.Dense(9, activation=\"softmax\")(x)\n",
    "\n",
    "    # combine all layers into one model\n",
    "    lstm_model = keras.Model(inputs, outputs)\n",
    "\n",
    "    # specifiy optimizer, loss, and metrics for the model\n",
    "    lstm_model.compile(optimizer=\"rmsprop\",\n",
    "                  loss=\"sparse_categorical_crossentropy\",\n",
    "                  metrics=[\"accuracy\"])\n",
    "\n",
    "    # print the summay of the model architecture\n",
    "    lstm_model.summary()\n",
    "    \n",
    "    return lstm_model\n",
    "\n",
    "\n",
    "if SEQUENCE_MODEL:\n",
    "    if USE_GROVE:\n",
    "        lstm_model = create_lstm_model(embedding_layer)\n",
    "    else:\n",
    "        lstm_model = create_lstm_model()\n",
    "    \n",
    "    # define callback function\n",
    "    callbacks = [\n",
    "        keras.callbacks.ModelCheckpoint(\"embeddings_bidir_gru_with_masking.keras\",\n",
    "                                        save_best_only=False)\n",
    "    ]\n",
    "\n",
    "    # train model\n",
    "    lstm_model.fit(X_train, y_train, epochs=10, callbacks=callbacks)"
   ]
  },
  {
   "cell_type": "markdown",
   "id": "90cb66e5",
   "metadata": {},
   "source": [
    "### 5.3 Sequence Modeling with Transformer\n",
    "\n",
    "Recently the attention-based Transformer algorithm becomes a preferred algorithm over LSTM for sequence modeling. The code below uses the Transformer algorithm with positional embedding for clinical text classification."
   ]
  },
  {
   "cell_type": "code",
   "execution_count": 33,
   "id": "84647245",
   "metadata": {},
   "outputs": [],
   "source": [
    "def create_transformer():\n",
    "\n",
    "    vocab_size = 20000\n",
    "    sequence_length = 1500\n",
    "    embed_dim = 256\n",
    "    num_heads = 2\n",
    "    dense_dim = 32\n",
    "\n",
    "    inputs = keras.Input(shape=(None,), dtype=\"int64\")\n",
    "    x = PositionalEmbedding(sequence_length, vocab_size, embed_dim)(inputs)\n",
    "    x = TransformerEncoder(embed_dim, dense_dim, num_heads)(x)\n",
    "    x = layers.GlobalMaxPooling1D()(x)\n",
    "    x = layers.Dropout(0.5)(x)\n",
    "    outputs = layers.Dense(9, activation=\"softmax\")(x)\n",
    "    transformer_model = keras.Model(inputs, outputs)\n",
    "    transformer_model.compile(optimizer=\"rmsprop\",\n",
    "                  loss=\"sparse_categorical_crossentropy\",\n",
    "                  metrics=[\"accuracy\"])\n",
    "    transformer_model.summary()\n",
    "    \n",
    "    return transformer_model\n",
    "\n",
    "if SEQUENCE_MODEL:\n",
    "    transformer_model = create_transformer()\n",
    "\n",
    "    callbacks = [\n",
    "        keras.callbacks.ModelCheckpoint(\"full_transformer_encoder.keras\",\n",
    "                                        save_best_only=False)\n",
    "    ]\n",
    "\n",
    "    transformer_model.fit(X_train, y_train, epochs=10, callbacks=callbacks)\n"
   ]
  },
  {
   "cell_type": "markdown",
   "id": "20ce73be",
   "metadata": {},
   "source": [
    "## 6. Model Evaluation\n"
   ]
  },
  {
   "cell_type": "code",
   "execution_count": 34,
   "id": "0d22f6a6",
   "metadata": {},
   "outputs": [],
   "source": [
    "from sklearn.metrics import confusion_matrix, ConfusionMatrixDisplay\n",
    "\n",
    "def plot_confusion_matrix(y_test, y_pred, labels):\n",
    "    cm = confusion_matrix(y_test, y_pred, labels=rf_clf.classes_)\n",
    "    disp = ConfusionMatrixDisplay(confusion_matrix=cm, display_labels=rf_clf.classes_) \n",
    "    fig, ax = plt.subplots(figsize=(15,15))\n",
    "    disp.plot(ax=ax)"
   ]
  },
  {
   "cell_type": "markdown",
   "id": "4d33cf80",
   "metadata": {},
   "source": [
    "### 6.1 Non-Sequence Model Evaluation"
   ]
  },
  {
   "cell_type": "code",
   "execution_count": 37,
   "id": "d4fd36ff",
   "metadata": {},
   "outputs": [
    {
     "name": "stdout",
     "output_type": "stream",
     "text": [
      "Accuracy score:  0.3342830009496676\n",
      "F1 score:  0.2956840674010129\n"
     ]
    },
    {
     "data": {
      "image/png": "[encoded data removed]",
      "text/plain": [
       "<Figure size 1080x1080 with 2 Axes>"
      ]
     },
     "metadata": {
      "needs_background": "light"
     },
     "output_type": "display_data"
    }
   ],
   "source": [
    "if not SEQUENCE_MODEL:\n",
    "    y_pred = rf_clf.predict(X_test)\n",
    "\n",
    "    acc_score = accuracy_score(y_test, y_pred)\n",
    "    print('Accuracy score: ', acc_score)\n",
    "\n",
    "    f1 = f1_score(y_test, y_pred, average='weighted')\n",
    "    print('F1 score: ', f1)\n",
    "    \n",
    "    plot_confusion_matrix(y_test, y_pred, labels=rf_clf.classes_)"
   ]
  },
  {
   "cell_type": "code",
   "execution_count": 38,
   "id": "714092e4",
   "metadata": {},
   "outputs": [
    {
     "name": "stdout",
     "output_type": "stream",
     "text": [
      "logistic_clf Accuracy score:  0.5669515669515669\n",
      "logistic_clf F1 score:  0.544622616058455\n"
     ]
    },
    {
     "data": {
      "image/png": "[encoded data removed]",
      "text/plain": [
       "<Figure size 1080x1080 with 2 Axes>"
      ]
     },
     "metadata": {
      "needs_background": "light"
     },
     "output_type": "display_data"
    }
   ],
   "source": [
    "if not SEQUENCE_MODEL:\n",
    "    y_pred = logistic_clf.predict(X_test)\n",
    "\n",
    "    acc_score = accuracy_score(y_test, y_pred)\n",
    "    print('logistic_clf Accuracy score: ', acc_score)\n",
    "\n",
    "    f1 = f1_score(y_test, y_pred, average='weighted')\n",
    "    print('logistic_clf F1 score: ', f1)\n",
    "    \n",
    "    plot_confusion_matrix(y_test, y_pred, labels=logistic_clf.classes_)\n"
   ]
  },
  {
   "cell_type": "code",
   "execution_count": 39,
   "id": "539fe33c",
   "metadata": {},
   "outputs": [
    {
     "name": "stdout",
     "output_type": "stream",
     "text": [
      "multi_class_clf Accuracy score:  0.47293447293447294\n",
      "multi_class_clf F1 score:  0.4332947562692282\n"
     ]
    },
    {
     "data": {
      "image/png": "[encoded data removed]",
      "text/plain": [
       "<Figure size 1080x1080 with 2 Axes>"
      ]
     },
     "metadata": {
      "needs_background": "light"
     },
     "output_type": "display_data"
    }
   ],
   "source": [
    "if not SEQUENCE_MODEL:\n",
    "    y_test = y_test.reshape(-1, 1)\n",
    "\n",
    "    y_pred = multi_class_clf.predict(X_test)\n",
    "\n",
    "    acc_score = accuracy_score(y_test, y_pred)\n",
    "    print('multi_class_clf Accuracy score: ', acc_score)\n",
    "\n",
    "    f1 = f1_score(y_test, y_pred, average='weighted')\n",
    "    print('multi_class_clf F1 score: ', f1)\n",
    "    \n",
    "    plot_confusion_matrix(y_test, y_pred, labels=multi_class_clf.classes_)\n"
   ]
  },
  {
   "cell_type": "markdown",
   "id": "539d2f75",
   "metadata": {},
   "source": [
    "### 6.2 Sequence Model Evaluation"
   ]
  },
  {
   "cell_type": "code",
   "execution_count": null,
   "id": "cc5c5353",
   "metadata": {},
   "outputs": [],
   "source": [
    "if SEQUENCE_MODEL:\n",
    "    y_pred = lstm_model.predict(X_test)\n",
    "    y_pred_labels = np.apply_along_axis(np.argmax, 1, y_pred) \n",
    "\n",
    "    acc_score = accuracy_score(y_test, y_pred_labels)\n",
    "    print('lstm_clf Accuracy score: ', acc_score)\n",
    "\n",
    "    f1 = f1_score(y_test, y_pred_labels, average='weighted')\n",
    "    print('lstm_clf F1 score: ', f1)"
   ]
  },
  {
   "cell_type": "code",
   "execution_count": null,
   "id": "cf69dc67",
   "metadata": {},
   "outputs": [],
   "source": [
    "if SEQUENCE_MODEL:\n",
    "    y_pred = transformer_model.predict(X_test)\n",
    "    y_pred_labels = np.apply_along_axis(np.argmax, 1, y_pred) \n",
    "\n",
    "    acc_score = accuracy_score(y_test, y_pred_labels)\n",
    "    print('transformer_clf Accuracy score: ', acc_score)\n",
    "\n",
    "    f1 = f1_score(y_test, y_pred_labels, average='weighted')\n",
    "    print('transformer_clf F1 score: ', f1)"
   ]
  },
  {
   "cell_type": "markdown",
   "id": "877ed6b3",
   "metadata": {},
   "source": [
    "### Summary of Model Evaluation Results\n",
    "\n",
    "|Model |Accuracy |F1 Score |\n",
    "|:---|:---|:---|\n",
    "|Logistic Regression |0.581 |0.562 |\n",
    "|Multi-Output Classifier |0.448 |0.410 |\n",
    "|Random Forest |0.345 |0.307 |\n",
    "|LSTM |0.432 |0.438 |\n",
    "|Transformer |0.427 |0.427 |"
   ]
  },
  {
   "cell_type": "markdown",
   "id": "03d7dcbc",
   "metadata": {},
   "source": [
    "## 7. Model Deployment\n",
    "\n",
    "Once the best model for text classification has been identified for deployment in model evaluation, we can deploy the identified model into a production system. One common method is to deploy the model as a Web service on a server, which can be called by other components in a target production system to get text classification results.\n",
    "\n",
    "To this end both the selected trained model (e.g., Random Forest) and the related encoding objects can be saved into Python pickle files after model training. These saved encoding objects and model can then be loaded back into memory for prediction in the deployment environment."
   ]
  },
  {
   "cell_type": "markdown",
   "id": "356f1d5e",
   "metadata": {},
   "source": [
    "## 8. Conclusion\n",
    "\n",
    "In this article I used an open source clitical text dataset to demonstrate some of the common text/document encoding methods and related machine learning and deep learning algorithms for clinical text classification. \n",
    "\n",
    "There are various types of text encoding methods and machine learning/deep learning algorithms. This article provided a summary of mapping between different text encoding methods and applicable machine learning/deep learning models. "
   ]
  },
  {
   "cell_type": "markdown",
   "id": "13906d40",
   "metadata": {},
   "source": [
    "## References\n",
    "[1] scispaCy: https://allenai.github.io/scispacy/\n",
    "\n",
    "[2] Clinical Text Classification: https://www.kaggle.com/ritheshsreenivasan/clinical-text-classification"
   ]
  },
  {
   "cell_type": "code",
   "execution_count": null,
   "id": "549a73d2",
   "metadata": {},
   "outputs": [],
   "source": []
  }
 ],
 "metadata": {
  "kernelspec": {
   "display_name": "Python 3 (ipykernel)",
   "language": "python",
   "name": "python3"
  },
  "language_info": {
   "codemirror_mode": {
    "name": "ipython",
    "version": 3
   },
   "file_extension": ".py",
   "mimetype": "text/x-python",
   "name": "python",
   "nbconvert_exporter": "python",
   "pygments_lexer": "ipython3",
   "version": "3.8.12"
  }
 },
 "nbformat": 4,
 "nbformat_minor": 5
}
