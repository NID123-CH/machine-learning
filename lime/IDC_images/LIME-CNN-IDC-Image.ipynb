{
 "cells": [
  {
   "cell_type": "markdown",
   "metadata": {
    "_cell_guid": "080fa63d-2ad7-4702-a972-61dfa453872c",
    "_uuid": "1f9069e7a456e3c1a75f148234f6433076305a76"
   },
   "source": [
    "# Explainable Deep Learning in Breast Cancer Prediction\n",
    "## Understanding Convolutional Neural Network Prediction Results in Healthcare\n",
    "\n",
    "Advanced machine learning models (e.g., Random Forest, deep learning models, etc.) are generally considerred not explainable [1][2]. Those models largely remain black boxes. As described in [1][2], understanding the reasons behind the prediction results of the advanced machine learning models for healthcare is very important in assessing trust if a doctor plans to take cancer treatment action based on a prediction result. In [2], I used the Wisconsin Breast Cancer Diagnosis (WBCD) tabular dataset to present how to use the Local Interpretable Model-agnostic Explanations (LIME) method to explain the prediction results of a Random Forest model in breast cancer diagonasis. \n",
    "\n",
    "In this article, I use the Kaggle Breast Cancer Histology Images dataset [5] to demonstrate how to use LIME to explain the prediction results of a 2D [Convolutional Neural Network (ConvNet)](https://en.wikipedia.org/wiki/Convolutional_neural_network) in the Invasive Ductal Carcinoma (IDC) breast cancer diagonasis.\n",
    "\n",
    "## 1. Preparing Breast Cancer Histology Images Dataset\n",
    "\n",
    "The Breast Cancer Histology Images dataset [5] can be downloaded from [Kaggle](https://www.kaggle.com/kernels/scriptcontent/2064134/data).\n",
    "\n",
    "As described in [5], the dataset consists of 5,547 50x50 pixel RGB digital images of H&E-stained breast histopathology samples. These images are labeled as either IDC or non-IDC. There are 2,788 IDC images and 2,759 non-IDC images. Those images have already been transformed into Numpy arrays and stored in the X.npy file. Similarly the corresponding labels are stored in the Y.npy file in Numpy array format. \n",
    "\n",
    "\n",
    "## 2. Training Convolutional Neural Network Model\n",
    "\n",
    "The IDC dataset is an image classification issue and thus a 2D convolutional neural network is selected for IDC prediction.\n",
    "\n",
    "\n",
    "## 3. Explaining Model Prediction Results Using LIME \n",
    "\n",
    "As described before, I use LIME to explain the ConvNet model prediction results in this article.\n",
    "\n",
    "\n",
    "## References\n",
    "\n",
    "[1] M. T. Ribeiro, S. Singh, and C. Guestrin, [“Why Should I Trust You?”\n",
    "Explaining the Predictions of Any Classifier](https://arxiv.org/pdf/1602.04938.pdf)\n",
    "\n",
    "[2] Yu Huang, [Explainable Machine Learning for Healthcare](https://towardsdatascience.com/explainable-machine-learning-for-healthcare-7e408f8e5130)\n",
    "\n",
    "[3] [LIME tutorial on image classificatipn](https://github.com/marcotcr/lime/blob/master/doc/notebooks/Tutorial%20-%20Image%20Classification%20Keras.ipynb)\n",
    "\n",
    "[4] [Interpretable Machine Learning, A Guide for Making Black Box Models Explainable](https://christophm.github.io/interpretable-ml-book/)\n",
    "\n",
    "[5] [Predicting IDC in Breast Cancer Histology Images](https://www.kaggle.com/paultimothymooney/predicting-idc-in-breast-cancer-histology-images/data)\n"
   ]
  },
  {
   "cell_type": "code",
   "execution_count": 1,
   "metadata": {
    "_cell_guid": "8114fd92-8576-41f7-b636-698011a0ada4",
    "_kg_hide-input": true,
    "_uuid": "5fda999ecf2c3e94831ac467dd96fabf2d5a9401"
   },
   "outputs": [
    {
     "name": "stderr",
     "output_type": "stream",
     "text": [
      "Using TensorFlow backend.\n"
     ]
    }
   ],
   "source": [
    "import random\n",
    "import numpy as np\n",
    "import pandas as pd\n",
    "import copy\n",
    "\n",
    "np_load_old = np.load # save np.load\n",
    "# modify the default parameters of np.load\n",
    "np.load = lambda *a,**k: np_load_old(*a, allow_pickle=True, **k)\n",
    "\n",
    "from skimage.segmentation import mark_boundaries\n",
    "import matplotlib.pylab as plt\n",
    "\n",
    "import itertools\n",
    "import sklearn\n",
    "from sklearn.model_selection import train_test_split\n",
    "from sklearn.base import BaseEstimator, TransformerMixin\n",
    "\n",
    "import keras\n",
    "from keras import backend as K\n",
    "from keras.utils.np_utils import to_categorical\n",
    "from keras.models import Sequential\n",
    "from keras.optimizers import RMSprop\n",
    "from keras.layers import Dense, Dropout, Activation, Flatten, BatchNormalization, Conv2D, MaxPooling2D\n",
    "\n",
    "%matplotlib inline"
   ]
  },
  {
   "cell_type": "code",
   "execution_count": 2,
   "metadata": {},
   "outputs": [],
   "source": [
    "random.seed(42)\n",
    "np.random.seed(42)"
   ]
  },
  {
   "cell_type": "code",
   "execution_count": 3,
   "metadata": {},
   "outputs": [],
   "source": [
    "EPOCH_SIZE = 70\n",
    "BATCH_SIZE = 128"
   ]
  },
  {
   "cell_type": "markdown",
   "metadata": {
    "_cell_guid": "c281e7a5-5d0a-4c19-b5d1-a0364ce7276b",
    "_uuid": "0693c954882cb02125f00973f93772edc93ee275"
   },
   "source": [
    "### 1.1 Loading Data\n",
    "\n",
    "Once the X.npy and Y.npy files are downloaded into a local computer, they can be loaded into memory as Numpy arrays as follows:"
   ]
  },
  {
   "cell_type": "code",
   "execution_count": 4,
   "metadata": {
    "_cell_guid": "488707f3-c33c-42db-8344-47353b21e931",
    "_uuid": "1cca29752ae8ff62de50236aebcdc091bd446619"
   },
   "outputs": [
    {
     "data": {
      "text/plain": [
       "(numpy.ndarray, numpy.ndarray, (5547, 50, 50, 3), (5547,))"
      ]
     },
     "execution_count": 4,
     "metadata": {},
     "output_type": "execute_result"
    }
   ],
   "source": [
    "X = np.load('./data/X.npy') # images\n",
    "Y = np.load('./data/Y.npy') # labels associated to images (0 = Non IDC, 1 = IDC)\n",
    "type(X), type(Y), X.shape, Y.shape"
   ]
  },
  {
   "cell_type": "markdown",
   "metadata": {},
   "source": [
    "### 1.2 Shuffling Data\n",
    "\n",
    "In the original dataset files, all the data samples labeled as 0 (Non IDC) are put before the data samples labeled as 1 (IDC). To avoid artificial data patterns, the dataset is randomly shuffled as follows:"
   ]
  },
  {
   "cell_type": "code",
   "execution_count": 5,
   "metadata": {},
   "outputs": [],
   "source": [
    "indices = np.arange(Y.shape[0])\n",
    "np.random.shuffle(indices)\n",
    "indices = list(indices)\n",
    "X = X[indices]\n",
    "Y = Y[indices]"
   ]
  },
  {
   "cell_type": "code",
   "execution_count": 6,
   "metadata": {},
   "outputs": [
    {
     "data": {
      "text/plain": [
       "array([0, 0, 1, 0, 1, 0, 1, 0, 1, 0, 1, 0, 0, 0, 1, 0, 0, 1, 0, 0])"
      ]
     },
     "execution_count": 6,
     "metadata": {},
     "output_type": "execute_result"
    }
   ],
   "source": [
    "Y[:20]"
   ]
  },
  {
   "cell_type": "markdown",
   "metadata": {},
   "source": [
    "The following are two of the data samples, the image on the left is labeled as 0 (Non IDC) and the image on the right is labeled as 1 (IDC)."
   ]
  },
  {
   "cell_type": "code",
   "execution_count": 7,
   "metadata": {},
   "outputs": [
    {
     "data": {
      "text/plain": [
       "Text(0.5, 1.0, 'IDC: 1')"
      ]
     },
     "execution_count": 7,
     "metadata": {},
     "output_type": "execute_result"
    },
    {
     "data": {
      "image/png": "[encoded data removed]",
      "text/plain": [
       "<Figure size 432x288 with 2 Axes>"
      ]
     },
     "metadata": {
      "needs_background": "light"
     },
     "output_type": "display_data"
    }
   ],
   "source": [
    "IDC_0_sample = X[12].copy() \n",
    "IDC_1_sample = X[10].copy()\n",
    "\n",
    "plt.subplot(1, 2, 1)\n",
    "plt.imshow(IDC_0_sample, interpolation = 'none')\n",
    "plt.title('IDC: 0')\n",
    "\n",
    "plt.subplot(1, 2, 2)\n",
    "plt.imshow(IDC_1_sample, interpolation = 'none')\n",
    "plt.title('IDC: 1')"
   ]
  },
  {
   "cell_type": "markdown",
   "metadata": {},
   "source": [
    "### 1.3 Transforming Dataset\n",
    "\n",
    "The value of each pixel in an IDC image is in the range of [0, 255], while a typical deep learning model works the best when the value of input data is in the range of [0. 1] or [-1, 1]. The class Scale below is to transform the pixel value of IDC images into the range of [0, 1]."
   ]
  },
  {
   "cell_type": "code",
   "execution_count": 8,
   "metadata": {},
   "outputs": [],
   "source": [
    "class Scale(BaseEstimator, TransformerMixin):\n",
    "    \"\"\"\n",
    "    Scale the pixel value of an image into the range of [0, 1]\n",
    "    \"\"\"\n",
    "    def __init__(self):\n",
    "        pass \n",
    "       \n",
    "     # call this on model training (pipline.fit)     \n",
    "    def fit(self, X, y):\n",
    "       # print('Scale fit ...')\n",
    "        return self\n",
    "    \n",
    "    # call this on model training (pipline.fit) and in sample prediction explainer\n",
    "    def transform(self, X): \n",
    "       # print('Scale transform ...')\n",
    "        X1 = X.copy()\n",
    "        X1 = X1 / 255.0\n",
    "        return X1"
   ]
  },
  {
   "cell_type": "markdown",
   "metadata": {},
   "source": [
    "### 1.4 Dividing Dataset for Model Training and Testing\n",
    "\n",
    "The dataset is divided into two parts, 80% for model training and 20% for model testing."
   ]
  },
  {
   "cell_type": "code",
   "execution_count": 9,
   "metadata": {},
   "outputs": [
    {
     "name": "stdout",
     "output_type": "stream",
     "text": [
      "Training X Data Shape: (3437, 50, 50, 3)\n",
      "Validation X Data Shape: (1000, 50, 50, 3)\n",
      "Testing X Data Shape: (1110, 50, 50, 3)\n",
      "Training y Data Shape: (3437,)\n",
      "Validation y Data Shape: (1000,)\n",
      "Testing y Data Shape: (1110,)\n"
     ]
    }
   ],
   "source": [
    "X_train_raw, X_test_raw, y_train_raw, y_test_raw = train_test_split(X, Y, test_size=0.2)\n",
    "\n",
    "X_train_data = copy.deepcopy(X_train_raw)\n",
    "X_val   = X_train_data[:1000]\n",
    "# X_val   = X_val / 255.0\n",
    "\n",
    "X_train = X_train_data[1000:]\n",
    "X_test  = copy.deepcopy(X_test_raw)\n",
    "\n",
    "y_train_data = copy.deepcopy(y_train_raw)\n",
    "y_val   = y_train_data[:1000]\n",
    "y_train = y_train_data[1000:]\n",
    "y_test  = y_test_raw.copy()\n",
    "\n",
    "print(\"Training X Data Shape:\", X_train.shape)\n",
    "print(\"Validation X Data Shape:\", X_val.shape)\n",
    "print(\"Testing X Data Shape:\", X_test.shape)\n",
    "\n",
    "print(\"Training y Data Shape:\", y_train.shape)\n",
    "print(\"Validation y Data Shape:\", y_val.shape)\n",
    "print(\"Testing y Data Shape:\", y_test.shape)"
   ]
  },
  {
   "cell_type": "markdown",
   "metadata": {},
   "source": [
    "### 2.1 Creating 2D Convolutional Neural Network\n",
    "\n",
    "Similarly to [5], the function getKerasCNNModel() below creates a 2D ConvNet for the IDC image classification.  \n",
    "\n",
    "### 2.2 Creating Pipeline Component\n",
    "\n",
    "The class KerasCNN is to wrapper the 2D ConvNet model as a sklearn pipeline component so that it can be combined with other data preprocessing components when necessary. For example, the IDC image preprocessing can be a separate component."
   ]
  },
  {
   "cell_type": "code",
   "execution_count": 10,
   "metadata": {},
   "outputs": [],
   "source": [
    "def getKerasCNNModel():\n",
    "    batch_size = BATCH_SIZE\n",
    "    epochs = EPOCH_SIZE  \n",
    "    img_rows, img_cols = X_train.shape[1], X_train.shape[2]\n",
    "    input_shape = (img_rows, img_cols, 3) \n",
    "    model = Sequential()\n",
    "    model.add(Conv2D(16, kernel_size=(3,3), activation='relu', input_shape=input_shape))\n",
    "    model.add(MaxPooling2D(pool_size=(2, 2)))  \n",
    "    model.add(Dropout(0.25)) \n",
    "    model.add(Conv2D(32, (3,3),  activation='relu')) \n",
    "    model.add(MaxPooling2D(pool_size=(2, 2)))  \n",
    "    model.add(Dropout(0.25)) \n",
    "    model.add(Flatten())\n",
    "    model.add(Dense(128, activation='relu'))  \n",
    "    model.add(Dropout(0.5)) \n",
    "    model.add(Dense(1, activation='sigmoid'))\n",
    "    \n",
    "    model.compile(loss= keras.losses.binary_crossentropy, \n",
    "                  optimizer=keras.optimizers.rmsprop(), \n",
    "                  metrics=['accuracy'])\n",
    "    \n",
    "    return model\n",
    "  \n",
    "    \n",
    "class KerasCNN(BaseEstimator, TransformerMixin):\n",
    "    \"\"\"\n",
    "    Wrapper for turning Keras CNN model into pipeline fit and predict_prob without transform\n",
    "    \"\"\"\n",
    "    def __init__(self, X_val=None, y_val=None):\n",
    "        self._model      = getKerasCNNModel()\n",
    "        self._batch_size = BATCH_SIZE\n",
    "        self._epochs     = EPOCH_SIZE\n",
    "        self._X_val      = X_val / 255.0\n",
    "        self._y_val      = y_val\n",
    "    \n",
    "    # call this in model traiing (pipline.fix)\n",
    "    def fit(self, X, y):  \n",
    "        print('KerasCNN fit ...')\n",
    "        self.history = self._model.fit(X, y,\n",
    "                        batch_size=self._batch_size,\n",
    "                        verbose=1,\n",
    "                        epochs=self._epochs,\n",
    "                        validation_data=(self._X_val, self._y_val))\n",
    "        return self\n",
    "    \n",
    "    # not get call\n",
    "    def transform(self, X): \n",
    "        print('KerasCNN transform: do nothing')\n",
    "        return X\n",
    "\n",
    "     # call this in sample prediction explainer\n",
    "    def predict_proba(self, X):\n",
    "       # print('KerasCNN predict_proba ...')\n",
    "        y_pred = self._model.predict(X) \n",
    "        return y_pred  \n",
    "    \n",
    "    # call on testing     \n",
    "    def evaluate(self, X, y):\n",
    "        print('KerasCNN evaluate ...')\n",
    "        return self._model.evaluate(X,y)        "
   ]
  },
  {
   "cell_type": "markdown",
   "metadata": {},
   "source": [
    "### 3.1 Setting Up a Pipeline\n",
    "\n",
    "Similarly to [1][2], I make a pipeline to wrapper the ConvNet model for the integration with LIME API."
   ]
  },
  {
   "cell_type": "code",
   "execution_count": 11,
   "metadata": {},
   "outputs": [
    {
     "name": "stdout",
     "output_type": "stream",
     "text": [
      "WARNING:tensorflow:From /Users/yuhuang/anaconda3/envs/deeplearning/lib/python3.7/site-packages/tensorflow_core/python/ops/nn_impl.py:183: where (from tensorflow.python.ops.array_ops) is deprecated and will be removed in a future version.\n",
      "Instructions for updating:\n",
      "Use tf.where in 2.0, which has the same broadcast rule as np.where\n"
     ]
    }
   ],
   "source": [
    "from sklearn.pipeline import Pipeline \n",
    "\n",
    "simple_cnn_pipeline = Pipeline([\n",
    "    ('scale', Scale()),\n",
    "    ('CNN', KerasCNN(X_val=X_val, y_val=y_val))\n",
    "    ])"
   ]
  },
  {
   "cell_type": "markdown",
   "metadata": {},
   "source": [
    "### 3.2 Training the ConvNet Model\n",
    "\n",
    "The ConvNet model is trained as follows so that it can be called by LIME for model prediction. "
   ]
  },
  {
   "cell_type": "code",
   "execution_count": 12,
   "metadata": {
    "scrolled": true
   },
   "outputs": [
    {
     "name": "stdout",
     "output_type": "stream",
     "text": [
      "KerasCNN fit ...\n",
      "Train on 3437 samples, validate on 1000 samples\n",
      "Epoch 1/70\n",
      "3437/3437 [==============================] - 3s 973us/step - loss: 0.7685 - accuracy: 0.5569 - val_loss: 0.6811 - val_accuracy: 0.5070\n",
      "Epoch 2/70\n",
      "3437/3437 [==============================] - 3s 848us/step - loss: 0.6710 - accuracy: 0.6026 - val_loss: 0.6689 - val_accuracy: 0.6300\n",
      "Epoch 3/70\n",
      "3437/3437 [==============================] - 3s 796us/step - loss: 0.6318 - accuracy: 0.6605 - val_loss: 0.6500 - val_accuracy: 0.5380\n",
      "Epoch 4/70\n",
      "3437/3437 [==============================] - 3s 760us/step - loss: 0.6208 - accuracy: 0.6753 - val_loss: 0.6340 - val_accuracy: 0.7130\n",
      "Epoch 5/70\n",
      "3437/3437 [==============================] - 3s 770us/step - loss: 0.6012 - accuracy: 0.6983 - val_loss: 0.6426 - val_accuracy: 0.7160\n",
      "Epoch 6/70\n",
      "3437/3437 [==============================] - 3s 807us/step - loss: 0.5853 - accuracy: 0.7122 - val_loss: 0.5806 - val_accuracy: 0.7330\n",
      "Epoch 7/70\n",
      "3437/3437 [==============================] - 3s 819us/step - loss: 0.5870 - accuracy: 0.7108 - val_loss: 0.5913 - val_accuracy: 0.7620\n",
      "Epoch 8/70\n",
      "3437/3437 [==============================] - 3s 804us/step - loss: 0.5714 - accuracy: 0.7248 - val_loss: 0.5849 - val_accuracy: 0.7660\n",
      "Epoch 9/70\n",
      "3437/3437 [==============================] - 3s 784us/step - loss: 0.5657 - accuracy: 0.7317 - val_loss: 0.5662 - val_accuracy: 0.7110\n",
      "Epoch 10/70\n",
      "3437/3437 [==============================] - 3s 783us/step - loss: 0.5677 - accuracy: 0.7271 - val_loss: 0.5615 - val_accuracy: 0.7550\n",
      "Epoch 11/70\n",
      "3437/3437 [==============================] - 3s 786us/step - loss: 0.5537 - accuracy: 0.7408 - val_loss: 0.5813 - val_accuracy: 0.7180\n",
      "Epoch 12/70\n",
      "3437/3437 [==============================] - 3s 784us/step - loss: 0.5501 - accuracy: 0.7364 - val_loss: 0.5665 - val_accuracy: 0.7020\n",
      "Epoch 13/70\n",
      "3437/3437 [==============================] - 3s 794us/step - loss: 0.5387 - accuracy: 0.7536 - val_loss: 0.5237 - val_accuracy: 0.7790\n",
      "Epoch 14/70\n",
      "3437/3437 [==============================] - 3s 807us/step - loss: 0.5443 - accuracy: 0.7387 - val_loss: 0.5214 - val_accuracy: 0.7630\n",
      "Epoch 15/70\n",
      "3437/3437 [==============================] - 3s 786us/step - loss: 0.5338 - accuracy: 0.7512 - val_loss: 0.5124 - val_accuracy: 0.7860\n",
      "Epoch 16/70\n",
      "3437/3437 [==============================] - 3s 788us/step - loss: 0.5319 - accuracy: 0.7451 - val_loss: 0.5169 - val_accuracy: 0.7790\n",
      "Epoch 17/70\n",
      "3437/3437 [==============================] - 3s 881us/step - loss: 0.5362 - accuracy: 0.7544 - val_loss: 0.5556 - val_accuracy: 0.7530\n",
      "Epoch 18/70\n",
      "3437/3437 [==============================] - 3s 875us/step - loss: 0.5282 - accuracy: 0.7512 - val_loss: 0.5329 - val_accuracy: 0.7580\n",
      "Epoch 19/70\n",
      "3437/3437 [==============================] - 3s 784us/step - loss: 0.5201 - accuracy: 0.7559 - val_loss: 0.5070 - val_accuracy: 0.7740\n",
      "Epoch 20/70\n",
      "3437/3437 [==============================] - 3s 777us/step - loss: 0.5224 - accuracy: 0.7571 - val_loss: 0.5590 - val_accuracy: 0.7260\n",
      "Epoch 21/70\n",
      "3437/3437 [==============================] - 3s 785us/step - loss: 0.5064 - accuracy: 0.7696 - val_loss: 0.6967 - val_accuracy: 0.6290\n",
      "Epoch 22/70\n",
      "3437/3437 [==============================] - 3s 785us/step - loss: 0.5314 - accuracy: 0.7617 - val_loss: 0.5123 - val_accuracy: 0.7890\n",
      "Epoch 23/70\n",
      "3437/3437 [==============================] - 3s 796us/step - loss: 0.5078 - accuracy: 0.7643 - val_loss: 0.5357 - val_accuracy: 0.7600\n",
      "Epoch 24/70\n",
      "3437/3437 [==============================] - 3s 781us/step - loss: 0.4908 - accuracy: 0.7757 - val_loss: 0.5174 - val_accuracy: 0.7440\n",
      "Epoch 25/70\n",
      "3437/3437 [==============================] - 3s 790us/step - loss: 0.5016 - accuracy: 0.7652 - val_loss: 0.5408 - val_accuracy: 0.7450\n",
      "Epoch 26/70\n",
      "3437/3437 [==============================] - 3s 786us/step - loss: 0.5012 - accuracy: 0.7710 - val_loss: 0.5080 - val_accuracy: 0.7860\n",
      "Epoch 27/70\n",
      "3437/3437 [==============================] - 3s 788us/step - loss: 0.4953 - accuracy: 0.7658 - val_loss: 0.5125 - val_accuracy: 0.7600\n",
      "Epoch 28/70\n",
      "3437/3437 [==============================] - 3s 778us/step - loss: 0.4816 - accuracy: 0.7719 - val_loss: 0.5088 - val_accuracy: 0.7570\n",
      "Epoch 29/70\n",
      "3437/3437 [==============================] - 3s 851us/step - loss: 0.4862 - accuracy: 0.7754 - val_loss: 0.5127 - val_accuracy: 0.7550\n",
      "Epoch 30/70\n",
      "3437/3437 [==============================] - 3s 818us/step - loss: 0.4840 - accuracy: 0.7812 - val_loss: 0.5090 - val_accuracy: 0.7720\n",
      "Epoch 31/70\n",
      "3437/3437 [==============================] - 3s 799us/step - loss: 0.4848 - accuracy: 0.7812 - val_loss: 0.5350 - val_accuracy: 0.7320\n",
      "Epoch 32/70\n",
      "3437/3437 [==============================] - 3s 800us/step - loss: 0.4717 - accuracy: 0.7859 - val_loss: 0.5078 - val_accuracy: 0.7760\n",
      "Epoch 33/70\n",
      "3437/3437 [==============================] - 3s 800us/step - loss: 0.4654 - accuracy: 0.7885 - val_loss: 0.4984 - val_accuracy: 0.7780\n",
      "Epoch 34/70\n",
      "3437/3437 [==============================] - 3s 783us/step - loss: 0.4657 - accuracy: 0.7885 - val_loss: 0.6039 - val_accuracy: 0.7130\n",
      "Epoch 35/70\n",
      "3437/3437 [==============================] - 3s 782us/step - loss: 0.4597 - accuracy: 0.7853 - val_loss: 0.5735 - val_accuracy: 0.7140\n",
      "Epoch 36/70\n",
      "3437/3437 [==============================] - 3s 790us/step - loss: 0.4617 - accuracy: 0.7856 - val_loss: 0.5013 - val_accuracy: 0.7680\n",
      "Epoch 37/70\n",
      "3437/3437 [==============================] - 3s 789us/step - loss: 0.4570 - accuracy: 0.7891 - val_loss: 0.5816 - val_accuracy: 0.7110\n",
      "Epoch 38/70\n",
      "3437/3437 [==============================] - 3s 804us/step - loss: 0.4559 - accuracy: 0.7867 - val_loss: 0.5013 - val_accuracy: 0.7690\n",
      "Epoch 39/70\n",
      "3437/3437 [==============================] - 3s 794us/step - loss: 0.4517 - accuracy: 0.7894 - val_loss: 0.5101 - val_accuracy: 0.7640\n",
      "Epoch 40/70\n",
      "3437/3437 [==============================] - 3s 799us/step - loss: 0.4476 - accuracy: 0.7940 - val_loss: 0.5303 - val_accuracy: 0.7640\n",
      "Epoch 41/70\n",
      "3437/3437 [==============================] - 3s 828us/step - loss: 0.4425 - accuracy: 0.8019 - val_loss: 0.5035 - val_accuracy: 0.7630\n",
      "Epoch 42/70\n",
      "3437/3437 [==============================] - 3s 806us/step - loss: 0.4344 - accuracy: 0.8068 - val_loss: 0.5163 - val_accuracy: 0.7690\n",
      "Epoch 43/70\n",
      "3437/3437 [==============================] - 3s 796us/step - loss: 0.4358 - accuracy: 0.7978 - val_loss: 0.5313 - val_accuracy: 0.7570\n",
      "Epoch 44/70\n",
      "3437/3437 [==============================] - 3s 790us/step - loss: 0.4459 - accuracy: 0.7975 - val_loss: 0.5364 - val_accuracy: 0.7580\n",
      "Epoch 45/70\n",
      "3437/3437 [==============================] - 3s 787us/step - loss: 0.4313 - accuracy: 0.8071 - val_loss: 0.5327 - val_accuracy: 0.7630\n",
      "Epoch 46/70\n",
      "3437/3437 [==============================] - 3s 797us/step - loss: 0.4207 - accuracy: 0.8141 - val_loss: 0.5056 - val_accuracy: 0.7680\n",
      "Epoch 47/70\n",
      "3437/3437 [==============================] - 3s 791us/step - loss: 0.4225 - accuracy: 0.8112 - val_loss: 0.5148 - val_accuracy: 0.7580\n",
      "Epoch 48/70\n",
      "3437/3437 [==============================] - 3s 813us/step - loss: 0.4245 - accuracy: 0.8071 - val_loss: 0.5034 - val_accuracy: 0.7700\n",
      "Epoch 49/70\n",
      "3437/3437 [==============================] - 3s 915us/step - loss: 0.4048 - accuracy: 0.8205 - val_loss: 0.5072 - val_accuracy: 0.7690\n",
      "Epoch 50/70\n",
      "3437/3437 [==============================] - 3s 827us/step - loss: 0.4098 - accuracy: 0.8115 - val_loss: 0.5559 - val_accuracy: 0.7540\n",
      "Epoch 51/70\n",
      "3437/3437 [==============================] - 3s 799us/step - loss: 0.4047 - accuracy: 0.8228 - val_loss: 0.5494 - val_accuracy: 0.7400\n",
      "Epoch 52/70\n",
      "3437/3437 [==============================] - 3s 830us/step - loss: 0.4055 - accuracy: 0.8225 - val_loss: 0.5073 - val_accuracy: 0.7710\n",
      "Epoch 53/70\n",
      "3437/3437 [==============================] - 3s 776us/step - loss: 0.4062 - accuracy: 0.8161 - val_loss: 0.5133 - val_accuracy: 0.7660\n",
      "Epoch 54/70\n",
      "3437/3437 [==============================] - 3s 813us/step - loss: 0.3998 - accuracy: 0.8280 - val_loss: 0.5142 - val_accuracy: 0.7650\n",
      "Epoch 55/70\n",
      "3437/3437 [==============================] - 3s 793us/step - loss: 0.3847 - accuracy: 0.8312 - val_loss: 0.5342 - val_accuracy: 0.7560\n",
      "Epoch 56/70\n"
     ]
    },
    {
     "name": "stdout",
     "output_type": "stream",
     "text": [
      "3437/3437 [==============================] - 3s 785us/step - loss: 0.3869 - accuracy: 0.8382 - val_loss: 0.5260 - val_accuracy: 0.7660\n",
      "Epoch 57/70\n",
      "3437/3437 [==============================] - 3s 777us/step - loss: 0.3790 - accuracy: 0.8344 - val_loss: 0.5536 - val_accuracy: 0.7580\n",
      "Epoch 58/70\n",
      "3437/3437 [==============================] - 3s 830us/step - loss: 0.3759 - accuracy: 0.8347 - val_loss: 0.5314 - val_accuracy: 0.7710\n",
      "Epoch 59/70\n",
      "3437/3437 [==============================] - 3s 916us/step - loss: 0.3772 - accuracy: 0.8310 - val_loss: 0.5439 - val_accuracy: 0.7520\n",
      "Epoch 60/70\n",
      "3437/3437 [==============================] - 3s 794us/step - loss: 0.3525 - accuracy: 0.8490 - val_loss: 0.5429 - val_accuracy: 0.7660\n",
      "Epoch 61/70\n",
      "3437/3437 [==============================] - 3s 800us/step - loss: 0.3650 - accuracy: 0.8339 - val_loss: 0.5303 - val_accuracy: 0.7530\n",
      "Epoch 62/70\n",
      "3437/3437 [==============================] - 3s 884us/step - loss: 0.3621 - accuracy: 0.8394 - val_loss: 0.5368 - val_accuracy: 0.7640\n",
      "Epoch 63/70\n",
      "3437/3437 [==============================] - 3s 863us/step - loss: 0.3592 - accuracy: 0.8356 - val_loss: 0.5318 - val_accuracy: 0.7560\n",
      "Epoch 64/70\n",
      "3437/3437 [==============================] - 3s 822us/step - loss: 0.3495 - accuracy: 0.8458 - val_loss: 0.5550 - val_accuracy: 0.7500\n",
      "Epoch 65/70\n",
      "3437/3437 [==============================] - 3s 784us/step - loss: 0.3481 - accuracy: 0.8513 - val_loss: 0.5542 - val_accuracy: 0.7510\n",
      "Epoch 66/70\n",
      "3437/3437 [==============================] - 3s 778us/step - loss: 0.3436 - accuracy: 0.8510 - val_loss: 0.5363 - val_accuracy: 0.7610\n",
      "Epoch 67/70\n",
      "3437/3437 [==============================] - 3s 774us/step - loss: 0.3365 - accuracy: 0.8560 - val_loss: 0.5622 - val_accuracy: 0.7570\n",
      "Epoch 68/70\n",
      "3437/3437 [==============================] - 3s 769us/step - loss: 0.3324 - accuracy: 0.8569 - val_loss: 0.5722 - val_accuracy: 0.7560\n",
      "Epoch 69/70\n",
      "3437/3437 [==============================] - 3s 779us/step - loss: 0.3190 - accuracy: 0.8653 - val_loss: 0.5497 - val_accuracy: 0.7710\n",
      "Epoch 70/70\n",
      "3437/3437 [==============================] - 3s 780us/step - loss: 0.3231 - accuracy: 0.8641 - val_loss: 0.6321 - val_accuracy: 0.7450\n",
      "CPU times: user 14min 28s, sys: 15min 33s, total: 30min 1s\n",
      "Wall time: 3min 14s\n"
     ]
    },
    {
     "data": {
      "text/plain": [
       "Pipeline(memory=None,\n",
       "         steps=[('scale', Scale()), ('CNN', KerasCNN(X_val=None, y_val=None))],\n",
       "         verbose=False)"
      ]
     },
     "execution_count": 12,
     "metadata": {},
     "output_type": "execute_result"
    }
   ],
   "source": [
    "%%time\n",
    "simple_cnn_pipeline.fit(X_train, y_train)"
   ]
  },
  {
   "cell_type": "code",
   "execution_count": 13,
   "metadata": {},
   "outputs": [],
   "source": [
    "CNN = simple_cnn_pipeline['CNN']\n",
    "history = CNN.history"
   ]
  },
  {
   "cell_type": "code",
   "execution_count": 14,
   "metadata": {},
   "outputs": [
    {
     "data": {
      "image/png": "[encoded data removed]",
      "text/plain": [
       "<Figure size 432x288 with 1 Axes>"
      ]
     },
     "metadata": {
      "needs_background": "light"
     },
     "output_type": "display_data"
    }
   ],
   "source": [
    "plt.clf()\n",
    "\n",
    "acc = history.history['accuracy']\n",
    "val_acc = history.history['val_accuracy']\n",
    "\n",
    "epochs = range(1, len(acc) + 1)\n",
    "\n",
    "plt.plot(epochs, acc, 'bo', label='Training acc')\n",
    "plt.plot(epochs, val_acc,'b', label='Validation acc')\n",
    "plt.title('Training and valitation accuracy')\n",
    "plt.xlabel('Epoch')\n",
    "plt.ylabel('Accuracy')\n",
    "plt.legend()\n",
    "plt.show()"
   ]
  },
  {
   "cell_type": "code",
   "execution_count": 15,
   "metadata": {},
   "outputs": [],
   "source": [
    "%load_ext autoreload\n",
    "%autoreload 2\n",
    "import os,sys\n",
    "try:\n",
    "    import lime\n",
    "except:\n",
    "    sys.path.append(os.path.join('..', '..')) # add the current directory\n",
    "    import lime"
   ]
  },
  {
   "cell_type": "markdown",
   "metadata": {},
   "source": [
    "### 3.3 Selecting LIME Explainer\n",
    "\n",
    "As described in [2], the LIME method supports different types of machine learning model explainers for different types of datasets such as image, text, tabular data, etc. The LIME image explainer is selected because the dataset are images. \n",
    "\n",
    "The 2D image segmentation algorithm [Quickshift](https://scikit-image.org/docs/stable/auto_examples/segmentation/plot_segmentations.html) is used for generating LIME super pixels (i.e., segments) [1]. "
   ]
  },
  {
   "cell_type": "code",
   "execution_count": 16,
   "metadata": {},
   "outputs": [],
   "source": [
    "from lime import lime_image\n",
    "from lime.wrappers.scikit_image import SegmentationAlgorithm\n",
    "\n",
    "explainer = lime_image.LimeImageExplainer() \n",
    "\n",
    "segmenter = SegmentationAlgorithm('quickshift', kernel_size=1, max_dist=200, ratio=0.2)"
   ]
  },
  {
   "cell_type": "code",
   "execution_count": 17,
   "metadata": {
    "scrolled": true
   },
   "outputs": [
    {
     "name": "stdout",
     "output_type": "stream",
     "text": [
      "KerasCNN evaluate ...\n",
      "1110/1110 [==============================] - 0s 193us/step\n",
      "Test acc:  0.6729729771614075\n"
     ]
    }
   ],
   "source": [
    "X_test_copy = X_test.copy()\n",
    "test_loss, test_acc = CNN.evaluate(X_test_copy, y_test)\n",
    "print('Test acc: ', test_acc)"
   ]
  },
  {
   "cell_type": "code",
   "execution_count": 18,
   "metadata": {},
   "outputs": [
    {
     "name": "stdout",
     "output_type": "stream",
     "text": [
      "y_pred shape:  (1110, 1)\n"
     ]
    }
   ],
   "source": [
    "y_pred = simple_cnn_pipeline.predict_proba(X_test_copy)\n",
    "print('y_pred shape: ', y_pred.shape)"
   ]
  },
  {
   "cell_type": "code",
   "execution_count": 19,
   "metadata": {},
   "outputs": [],
   "source": [
    "class_0_indices = []\n",
    "class_1_indices = []\n",
    "\n",
    "for i in range(y_pred.shape[0]):\n",
    "    j = 1 if y_pred[i] > 0.5 else 0\n",
    "    \n",
    "    if y_test[i] == 1 and j == 1:\n",
    "        class_1_indices.append(i)\n",
    "        \n",
    "    if y_test[i] == 0 and j == 0:\n",
    "        class_0_indices.append(i)"
   ]
  },
  {
   "cell_type": "code",
   "execution_count": 20,
   "metadata": {},
   "outputs": [
    {
     "data": {
      "text/plain": [
       "Text(0.5, 1.0, 'IDC: 1')"
      ]
     },
     "execution_count": 20,
     "metadata": {},
     "output_type": "execute_result"
    },
    {
     "data": {
      "image/png": "[encoded data removed]",
      "text/plain": [
       "<Figure size 432x288 with 2 Axes>"
      ]
     },
     "metadata": {
      "needs_background": "light"
     },
     "output_type": "display_data"
    }
   ],
   "source": [
    "# two testing samples to be explained\n",
    "plt.subplot(1, 2, 1)\n",
    "\n",
    "IDC_0_sample_idx = class_0_indices[26] \n",
    "IDC_0_sample_test = X_test_copy[IDC_0_sample_idx] \n",
    "\n",
    "plt.imshow(IDC_0_sample_test,\n",
    "           interpolation = 'none')\n",
    "plt.title('IDC: {}'.format(y_test_raw[IDC_0_sample_idx]))\n",
    "\n",
    "\n",
    "plt.subplot(1, 2, 2)\n",
    "\n",
    "IDC_1_sample_idx = class_1_indices[8] \n",
    "IDC_1_sample_test =  X_test_copy[IDC_1_sample_idx]\n",
    "\n",
    "plt.imshow(IDC_1_sample_test, \n",
    "           interpolation = 'none')\n",
    "plt.title('IDC: {}'.format(y_test_raw[IDC_1_sample_idx]))"
   ]
  },
  {
   "cell_type": "markdown",
   "metadata": {},
   "source": [
    "### 3.4 Explaining Model Prediction\n",
    "\n",
    "Once the ConvNet model has been trained, given an original IDC image, the explain_instance() method of the LIME explainer can be called to generate an explanation of the model prediction. \n",
    "\n",
    "An explanation of an image prediction consists of a template image and a corresponding mask image. These images can be used to explain a ConvNet model prediction result in different ways. "
   ]
  },
  {
   "cell_type": "code",
   "execution_count": 21,
   "metadata": {},
   "outputs": [
    {
     "name": "stdout",
     "output_type": "stream",
     "text": [
      "CPU times: user 11.6 s, sys: 12.5 s, total: 24.1 s\n",
      "Wall time: 4.85 s\n"
     ]
    }
   ],
   "source": [
    "%%time\n",
    "'''\n",
    "Hide color is the color for a superpixel turned OFF. Alternatively, \n",
    "if it is NONE, the superpixel will be replaced by the average of its pixels\n",
    "'''\n",
    "explanation_1 = explainer.explain_instance(IDC_1_sample_test, \n",
    "                                         classifier_fn = simple_cnn_pipeline.predict_proba, \n",
    "                                         top_labels=2, \n",
    "                                         hide_color=0, # 0 - gray \n",
    "                                         num_samples=10000,\n",
    "                                         segmentation_fn=segmenter\n",
    "                                        )"
   ]
  },
  {
   "cell_type": "code",
   "execution_count": 22,
   "metadata": {},
   "outputs": [
    {
     "data": {
      "text/plain": [
       "Text(0.5, 1.0, 'IDC: 1')"
      ]
     },
     "execution_count": 22,
     "metadata": {},
     "output_type": "execute_result"
    },
    {
     "data": {
      "image/png": "[encoded data removed]",
      "text/plain": [
       "<Figure size 432x288 with 1 Axes>"
      ]
     },
     "metadata": {
      "needs_background": "light"
     },
     "output_type": "display_data"
    }
   ],
   "source": [
    "fig, ax1 = plt.subplots(1, 1)\n",
    "\n",
    "ax1.imshow(IDC_1_sample_test, interpolation = 'none')\n",
    "\n",
    "ax1.set_title('IDC: 1')"
   ]
  },
  {
   "cell_type": "code",
   "execution_count": 23,
   "metadata": {},
   "outputs": [
    {
     "name": "stderr",
     "output_type": "stream",
     "text": [
      "Clipping input data to the valid range for imshow with RGB data ([0..1] for floats or [0..255] for integers).\n"
     ]
    },
    {
     "data": {
      "text/plain": [
       "<matplotlib.image.AxesImage at 0x118962390>"
      ]
     },
     "execution_count": 23,
     "metadata": {},
     "output_type": "execute_result"
    },
    {
     "data": {
      "image/png": "[encoded data removed]",
      "text/plain": [
       "<Figure size 432x288 with 1 Axes>"
      ]
     },
     "metadata": {
      "needs_background": "light"
     },
     "output_type": "display_data"
    }
   ],
   "source": [
    "from skimage.segmentation import mark_boundaries\n",
    "\n",
    "temp, mask = explanation_1.get_image_and_mask(explanation_1.top_labels[0], \n",
    "                                            positive_only=True, \n",
    "                                            num_features=20, \n",
    "                                            hide_rest=True)\n",
    "\n",
    "plt.imshow(mark_boundaries(temp / 2 + 0.5, mask))"
   ]
  },
  {
   "cell_type": "code",
   "execution_count": 24,
   "metadata": {},
   "outputs": [
    {
     "name": "stdout",
     "output_type": "stream",
     "text": [
      "explanation 1 top labels[0] =  0\n"
     ]
    },
    {
     "data": {
      "text/plain": [
       "<matplotlib.image.AxesImage at 0x1c42832a90>"
      ]
     },
     "execution_count": 24,
     "metadata": {},
     "output_type": "execute_result"
    },
    {
     "data": {
      "image/png": "[encoded data removed]",
      "text/plain": [
       "<Figure size 432x288 with 1 Axes>"
      ]
     },
     "metadata": {
      "needs_background": "light"
     },
     "output_type": "display_data"
    }
   ],
   "source": [
    "temp, mask = explanation_1.get_image_and_mask(explanation_1.top_labels[0], \n",
    "                                            positive_only=True, \n",
    "                                            num_features=20, \n",
    "                                            hide_rest=False)\n",
    "\n",
    "print('explanation 1 top labels[0] = ', explanation_1.top_labels[0])\n",
    "plt.imshow(mark_boundaries(temp, mask))"
   ]
  },
  {
   "cell_type": "code",
   "execution_count": 25,
   "metadata": {},
   "outputs": [
    {
     "name": "stdout",
     "output_type": "stream",
     "text": [
      "CPU times: user 12.9 s, sys: 13.5 s, total: 26.4 s\n",
      "Wall time: 5.25 s\n"
     ]
    }
   ],
   "source": [
    "%%time\n",
    "'''\n",
    "Hide color is the color for a superpixel turned OFF. Alternatively, \n",
    "if it is NONE, the superpixel will be replaced by the average of its pixels\n",
    "'''\n",
    "explanation_2 = explainer.explain_instance(IDC_0_sample_test, \n",
    "                                         classifier_fn = simple_cnn_pipeline.predict_proba, \n",
    "                                         top_labels=2, \n",
    "                                         hide_color=0, \n",
    "                                         num_samples=10000,\n",
    "                                         segmentation_fn=segmenter\n",
    "                                        )"
   ]
  },
  {
   "cell_type": "code",
   "execution_count": 26,
   "metadata": {},
   "outputs": [
    {
     "data": {
      "text/plain": [
       "Text(0.5, 1.0, 'IDC: 0')"
      ]
     },
     "execution_count": 26,
     "metadata": {},
     "output_type": "execute_result"
    },
    {
     "data": {
      "image/png": "[encoded data removed]",
      "text/plain": [
       "<Figure size 432x288 with 1 Axes>"
      ]
     },
     "metadata": {
      "needs_background": "light"
     },
     "output_type": "display_data"
    }
   ],
   "source": [
    "fig, ax1 = plt.subplots(1,1)\n",
    "\n",
    "ax1.imshow(X_test_raw[IDC_0_sample_idx], interpolation = 'none')\n",
    "\n",
    "ax1.set_title('IDC: 0')"
   ]
  },
  {
   "cell_type": "code",
   "execution_count": 27,
   "metadata": {},
   "outputs": [
    {
     "name": "stderr",
     "output_type": "stream",
     "text": [
      "Clipping input data to the valid range for imshow with RGB data ([0..1] for floats or [0..255] for integers).\n"
     ]
    },
    {
     "name": "stdout",
     "output_type": "stream",
     "text": [
      "explanation 2 top labels[0] =  0\n"
     ]
    },
    {
     "data": {
      "text/plain": [
       "<matplotlib.image.AxesImage at 0x1c42bea410>"
      ]
     },
     "execution_count": 27,
     "metadata": {},
     "output_type": "execute_result"
    },
    {
     "data": {
      "image/png": "[encoded data removed]",
      "text/plain": [
       "<Figure size 432x288 with 1 Axes>"
      ]
     },
     "metadata": {
      "needs_background": "light"
     },
     "output_type": "display_data"
    }
   ],
   "source": [
    "from skimage.segmentation import mark_boundaries\n",
    "\n",
    "temp, mask = explanation_2.get_image_and_mask(explanation_2.top_labels[0], \n",
    "                                            positive_only=True, \n",
    "                                            num_features=15, \n",
    "                                            hide_rest=True)\n",
    "\n",
    "print('explanation 2 top labels[0] = ', explanation_2.top_labels[0])\n",
    "plt.imshow(mark_boundaries(temp / 2 + 0.5, mask))"
   ]
  },
  {
   "cell_type": "code",
   "execution_count": 28,
   "metadata": {},
   "outputs": [
    {
     "name": "stdout",
     "output_type": "stream",
     "text": [
      "explanation 2 top labels[0] =  0\n"
     ]
    },
    {
     "data": {
      "text/plain": [
       "<matplotlib.image.AxesImage at 0x1c42eb6c50>"
      ]
     },
     "execution_count": 28,
     "metadata": {},
     "output_type": "execute_result"
    },
    {
     "data": {
      "image/png": "[encoded data removed]",
      "text/plain": [
       "<Figure size 432x288 with 1 Axes>"
      ]
     },
     "metadata": {
      "needs_background": "light"
     },
     "output_type": "display_data"
    }
   ],
   "source": [
    "temp, mask = explanation_2.get_image_and_mask(explanation_2.top_labels[0], \n",
    "                                            positive_only=True, \n",
    "                                            num_features=15, \n",
    "                                            hide_rest=False)\n",
    "print('explanation 2 top labels[0] = ', explanation_2.top_labels[0])\n",
    "plt.imshow(mark_boundaries(temp, mask))"
   ]
  },
  {
   "cell_type": "code",
   "execution_count": null,
   "metadata": {},
   "outputs": [],
   "source": []
  },
  {
   "cell_type": "code",
   "execution_count": null,
   "metadata": {},
   "outputs": [],
   "source": []
  }
 ],
 "metadata": {
  "kernelspec": {
   "display_name": "Python 3",
   "language": "python",
   "name": "python3"
  },
  "language_info": {
   "codemirror_mode": {
    "name": "ipython",
    "version": 3
   },
   "file_extension": ".py",
   "mimetype": "text/x-python",
   "name": "python",
   "nbconvert_exporter": "python",
   "pygments_lexer": "ipython3",
   "version": "3.7.4"
  }
 },
 "nbformat": 4,
 "nbformat_minor": 1
}
